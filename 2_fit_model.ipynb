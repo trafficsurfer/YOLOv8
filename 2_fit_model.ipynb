{
 "cells": [
  {
   "cell_type": "code",
   "execution_count": 1,
   "id": "54b3f58e",
   "metadata": {},
   "outputs": [
    {
     "name": "stderr",
     "output_type": "stream",
     "text": [
      "C:\\Users\\User\\anaconda3\\envs\\myenv_py_3_8_dl\\lib\\site-packages\\numpy\\_distributor_init.py:30: UserWarning: loaded more than 1 DLL from .libs:\n",
      "C:\\Users\\User\\anaconda3\\envs\\myenv_py_3_8_dl\\lib\\site-packages\\numpy\\.libs\\libopenblas.FB5AE2TYXYH2IJRDKGDGQ3XBKLKTF43H.gfortran-win_amd64.dll\n",
      "C:\\Users\\User\\anaconda3\\envs\\myenv_py_3_8_dl\\lib\\site-packages\\numpy\\.libs\\libopenblas64__v0.3.21-gcc_10_3_0.dll\n",
      "  warnings.warn(\"loaded more than 1 DLL from .libs:\"\n"
     ]
    }
   ],
   "source": [
    "from ultralytics import YOLO\n",
    "import torch"
   ]
  },
  {
   "cell_type": "code",
   "execution_count": 2,
   "id": "ab480908",
   "metadata": {},
   "outputs": [
    {
     "name": "stdout",
     "output_type": "stream",
     "text": [
      "True\n",
      "0\n",
      "NVIDIA GeForce RTX 3090\n",
      "Using device: cuda\n"
     ]
    }
   ],
   "source": [
    "print(torch.cuda.is_available())\n",
    "print(torch.cuda.current_device())\n",
    "print(torch.cuda.get_device_name(torch.cuda.current_device()))\n",
    "\n",
    "device = 'cuda' if torch.cuda.is_available() else 'cpu'\n",
    "print(f'Using device: {device}')"
   ]
  },
  {
   "cell_type": "markdown",
   "id": "6948c764",
   "metadata": {},
   "source": [
    "### YOLO v5"
   ]
  },
  {
   "cell_type": "code",
   "execution_count": null,
   "id": "74d31c24",
   "metadata": {},
   "outputs": [],
   "source": [
    "#env - my_env_py_3_8_dl_yolo_5"
   ]
  },
  {
   "cell_type": "code",
   "execution_count": 1,
   "id": "759df86b",
   "metadata": {},
   "outputs": [
    {
     "name": "stderr",
     "output_type": "stream",
     "text": [
      "C:\\Users\\User\\anaconda3\\envs\\myenv_py_3_8_dl\\lib\\site-packages\\numpy\\_distributor_init.py:30: UserWarning: loaded more than 1 DLL from .libs:\n",
      "C:\\Users\\User\\anaconda3\\envs\\myenv_py_3_8_dl\\lib\\site-packages\\numpy\\.libs\\libopenblas.FB5AE2TYXYH2IJRDKGDGQ3XBKLKTF43H.gfortran-win_amd64.dll\n",
      "C:\\Users\\User\\anaconda3\\envs\\myenv_py_3_8_dl\\lib\\site-packages\\numpy\\.libs\\libopenblas64__v0.3.21-gcc_10_3_0.dll\n",
      "  warnings.warn(\"loaded more than 1 DLL from .libs:\"\n",
      "usage: train.py [-h] [--weights WEIGHTS] [--cfg CFG] [--data DATA] [--hyp HYP]\n",
      "                [--epochs EPOCHS] [--batch-size BATCH_SIZE] [--imgsz IMGSZ]\n",
      "                [--rect] [--resume [RESUME]] [--nosave] [--noval]\n",
      "                [--noautoanchor] [--noplots] [--evolve [EVOLVE]]\n",
      "                [--bucket BUCKET] [--cache [CACHE]] [--image-weights]\n",
      "                [--device DEVICE] [--multi-scale] [--single-cls]\n",
      "                [--optimizer {SGD,Adam,AdamW}] [--sync-bn] [--workers WORKERS]\n",
      "                [--project PROJECT] [--name NAME] [--exist-ok] [--quad]\n",
      "                [--cos-lr] [--label-smoothing LABEL_SMOOTHING]\n",
      "                [--patience PATIENCE] [--freeze FREEZE [FREEZE ...]]\n",
      "                [--save-period SAVE_PERIOD] [--seed SEED]\n",
      "                [--local_rank LOCAL_RANK] [--entity ENTITY]\n",
      "                [--upload_dataset [UPLOAD_DATASET]]\n",
      "                [--bbox_interval BBOX_INTERVAL]\n",
      "                [--artifact_alias ARTIFACT_ALIAS]\n",
      "train.py: error: unrecognized arguments: --data_ru_translate.yaml\n"
     ]
    }
   ],
   "source": [
    "!python yolov5/train.py --img 640 --batch 48 --epochs 25 --data_ru_translate.yaml --weights yolov5s.pt"
   ]
  },
  {
   "cell_type": "markdown",
   "id": "6e14f0c2",
   "metadata": {},
   "source": [
    "### YOLO v8"
   ]
  },
  {
   "cell_type": "code",
   "execution_count": null,
   "id": "c76f6292",
   "metadata": {},
   "outputs": [],
   "source": [
    "#env - my_env_py_3_8_dl"
   ]
  },
  {
   "cell_type": "code",
   "execution_count": 3,
   "id": "1e508cd2",
   "metadata": {
    "scrolled": false
   },
   "outputs": [
    {
     "name": "stdout",
     "output_type": "stream",
     "text": [
      "New https://pypi.org/project/ultralytics/8.0.216 available 😃 Update with 'pip install -U ultralytics'\n",
      "\u001b[34m\u001b[1mengine\\trainer: \u001b[0mtask=detect, mode=train, model=yolov8n.pt, data=data_ru_translate.yaml, epochs=25, patience=50, batch=48, imgsz=640, save=True, save_period=-1, cache=False, device=cuda:0, workers=8, project=None, name=yolov8n_ru_dataset_trans, exist_ok=False, pretrained=True, optimizer=auto, verbose=True, seed=0, deterministic=True, single_cls=False, rect=False, cos_lr=False, close_mosaic=10, resume=False, amp=True, fraction=1.0, profile=False, freeze=None, overlap_mask=True, mask_ratio=4, dropout=0.0, val=True, split=val, save_json=False, save_hybrid=False, conf=None, iou=0.7, max_det=300, half=False, dnn=False, plots=True, source=None, show=False, save_txt=False, save_conf=False, save_crop=False, show_labels=True, show_conf=True, vid_stride=1, stream_buffer=False, line_width=None, visualize=False, augment=False, agnostic_nms=False, classes=None, retina_masks=False, boxes=True, format=torchscript, keras=False, optimize=False, int8=False, dynamic=False, simplify=False, opset=None, workspace=4, nms=False, lr0=0.01, lrf=0.01, momentum=0.937, weight_decay=0.0005, warmup_epochs=3.0, warmup_momentum=0.8, warmup_bias_lr=0.1, box=7.5, cls=0.5, dfl=1.5, pose=12.0, kobj=1.0, label_smoothing=0.0, nbs=64, hsv_h=0.015, hsv_s=0.7, hsv_v=0.4, degrees=0.0, translate=0.1, scale=0.5, shear=0.0, perspective=0.0, flipud=0.0, fliplr=0.5, mosaic=1.0, mixup=0.0, copy_paste=0.0, cfg=None, tracker=botsort.yaml, save_dir=runs\\detect\\yolov8n_ru_dataset_trans\n",
      "Overriding model.yaml nc=80 with nc=155\n",
      "\n",
      "                   from  n    params  module                                       arguments                     \n",
      "  0                  -1  1       464  ultralytics.nn.modules.conv.Conv             [3, 16, 3, 2]                 \n",
      "  1                  -1  1      4672  ultralytics.nn.modules.conv.Conv             [16, 32, 3, 2]                \n",
      "  2                  -1  1      7360  ultralytics.nn.modules.block.C2f             [32, 32, 1, True]             \n",
      "  3                  -1  1     18560  ultralytics.nn.modules.conv.Conv             [32, 64, 3, 2]                \n",
      "  4                  -1  2     49664  ultralytics.nn.modules.block.C2f             [64, 64, 2, True]             \n",
      "  5                  -1  1     73984  ultralytics.nn.modules.conv.Conv             [64, 128, 3, 2]               \n",
      "  6                  -1  2    197632  ultralytics.nn.modules.block.C2f             [128, 128, 2, True]           \n",
      "  7                  -1  1    295424  ultralytics.nn.modules.conv.Conv             [128, 256, 3, 2]              \n",
      "  8                  -1  1    460288  ultralytics.nn.modules.block.C2f             [256, 256, 1, True]           \n",
      "  9                  -1  1    164608  ultralytics.nn.modules.block.SPPF            [256, 256, 5]                 \n",
      " 10                  -1  1         0  torch.nn.modules.upsampling.Upsample         [None, 2, 'nearest']          \n",
      " 11             [-1, 6]  1         0  ultralytics.nn.modules.conv.Concat           [1]                           \n",
      " 12                  -1  1    148224  ultralytics.nn.modules.block.C2f             [384, 128, 1]                 \n",
      " 13                  -1  1         0  torch.nn.modules.upsampling.Upsample         [None, 2, 'nearest']          \n",
      " 14             [-1, 4]  1         0  ultralytics.nn.modules.conv.Concat           [1]                           \n",
      " 15                  -1  1     37248  ultralytics.nn.modules.block.C2f             [192, 64, 1]                  \n",
      " 16                  -1  1     36992  ultralytics.nn.modules.conv.Conv             [64, 64, 3, 2]                \n",
      " 17            [-1, 12]  1         0  ultralytics.nn.modules.conv.Concat           [1]                           \n",
      " 18                  -1  1    123648  ultralytics.nn.modules.block.C2f             [192, 128, 1]                 \n",
      " 19                  -1  1    147712  ultralytics.nn.modules.conv.Conv             [128, 128, 3, 2]              \n",
      " 20             [-1, 9]  1         0  ultralytics.nn.modules.conv.Concat           [1]                           \n",
      " 21                  -1  1    493056  ultralytics.nn.modules.block.C2f             [384, 256, 1]                 \n",
      " 22        [15, 18, 21]  1   1103269  ultralytics.nn.modules.head.Detect           [155, [64, 128, 256]]         \n",
      "Model summary: 225 layers, 3362805 parameters, 3362789 gradients, 9.8 GFLOPs\n",
      "\n",
      "Transferred 319/355 items from pretrained weights\n",
      "\u001b[34m\u001b[1mTensorBoard: \u001b[0mStart with 'tensorboard --logdir runs\\detect\\yolov8n_ru_dataset_trans', view at http://localhost:6006/\n",
      "Freezing layer 'model.22.dfl.conv.weight'\n",
      "\u001b[34m\u001b[1mAMP: \u001b[0mrunning Automatic Mixed Precision (AMP) checks with YOLOv8n...\n",
      "\u001b[34m\u001b[1mAMP: \u001b[0mchecks passed ✅\n"
     ]
    },
    {
     "name": "stderr",
     "output_type": "stream",
     "text": [
      "\u001b[34m\u001b[1mtrain: \u001b[0mScanning C:\\Users\\User\\Documents\\Projects\\itmo_deep_learning\\archive\\train\\labels.cache... 39015 images, 0 backgrounds, 0 corrupt: 100%|██████████| 39015/39015 [00:00<?, ?it/s]\n",
      "\u001b[34m\u001b[1mval: \u001b[0mScanning C:\\Users\\User\\Documents\\Projects\\itmo_deep_learning\\archive\\valid\\labels.cache... 4335 images, 0 backgrounds, 0 corrupt: 100%|██████████| 4335/4335 [00:00<?, ?it/s]\n"
     ]
    },
    {
     "name": "stdout",
     "output_type": "stream",
     "text": [
      "Plotting labels to runs\\detect\\yolov8n_ru_dataset_trans\\labels.jpg... \n",
      "\u001b[34m\u001b[1moptimizer:\u001b[0m 'optimizer=auto' found, ignoring 'lr0=0.01' and 'momentum=0.937' and determining best 'optimizer', 'lr0' and 'momentum' automatically... \n",
      "\u001b[34m\u001b[1moptimizer:\u001b[0m SGD(lr=0.01, momentum=0.9) with parameter groups 57 weight(decay=0.0), 64 weight(decay=0.000375), 63 bias(decay=0.0)\n",
      "Image sizes 640 train, 640 val\n",
      "Using 8 dataloader workers\n",
      "Logging results to \u001b[1mruns\\detect\\yolov8n_ru_dataset_trans\u001b[0m\n",
      "Starting training for 25 epochs...\n",
      "\n",
      "      Epoch    GPU_mem   box_loss   cls_loss   dfl_loss  Instances       Size\n"
     ]
    },
    {
     "name": "stderr",
     "output_type": "stream",
     "text": [
      "       1/25      8.59G      1.412      4.283     0.9056        127        640: 100%|██████████| 813/813 [02:42<00:00,  5.00it/s]\n",
      "                 Class     Images  Instances      Box(P          R      mAP50  mAP50-95): 100%|██████████| 46/46 [00:13<00:00,  3.35it/s]\n"
     ]
    },
    {
     "name": "stdout",
     "output_type": "stream",
     "text": [
      "                   all       4335       7669       0.67      0.114      0.111     0.0735\n",
      "\n",
      "      Epoch    GPU_mem   box_loss   cls_loss   dfl_loss  Instances       Size\n"
     ]
    },
    {
     "name": "stderr",
     "output_type": "stream",
     "text": [
      "       2/25      8.27G        1.3      2.551     0.8887        103        640: 100%|██████████| 813/813 [02:37<00:00,  5.15it/s]\n",
      "                 Class     Images  Instances      Box(P          R      mAP50  mAP50-95): 100%|██████████| 46/46 [00:14<00:00,  3.28it/s]\n"
     ]
    },
    {
     "name": "stdout",
     "output_type": "stream",
     "text": [
      "                   all       4335       7669      0.539        0.2      0.185      0.121\n",
      "\n",
      "      Epoch    GPU_mem   box_loss   cls_loss   dfl_loss  Instances       Size\n"
     ]
    },
    {
     "name": "stderr",
     "output_type": "stream",
     "text": [
      "       3/25      8.27G      1.299      1.809     0.8932        134        640: 100%|██████████| 813/813 [02:38<00:00,  5.14it/s]\n",
      "                 Class     Images  Instances      Box(P          R      mAP50  mAP50-95): 100%|██████████| 46/46 [00:14<00:00,  3.28it/s]\n"
     ]
    },
    {
     "name": "stdout",
     "output_type": "stream",
     "text": [
      "                   all       4335       7669      0.556      0.194      0.214      0.137\n",
      "\n",
      "      Epoch    GPU_mem   box_loss   cls_loss   dfl_loss  Instances       Size\n"
     ]
    },
    {
     "name": "stderr",
     "output_type": "stream",
     "text": [
      "       4/25      8.27G      1.256      1.289     0.8867        143        640: 100%|██████████| 813/813 [02:37<00:00,  5.15it/s]\n",
      "                 Class     Images  Instances      Box(P          R      mAP50  mAP50-95): 100%|██████████| 46/46 [00:13<00:00,  3.42it/s]\n"
     ]
    },
    {
     "name": "stdout",
     "output_type": "stream",
     "text": [
      "                   all       4335       7669      0.546      0.282      0.315      0.208\n",
      "\n",
      "      Epoch    GPU_mem   box_loss   cls_loss   dfl_loss  Instances       Size\n"
     ]
    },
    {
     "name": "stderr",
     "output_type": "stream",
     "text": [
      "       5/25      8.26G      1.191      1.115     0.8732        109        640: 100%|██████████| 813/813 [02:37<00:00,  5.17it/s]\n",
      "                 Class     Images  Instances      Box(P          R      mAP50  mAP50-95): 100%|██████████| 46/46 [00:13<00:00,  3.32it/s]\n"
     ]
    },
    {
     "name": "stdout",
     "output_type": "stream",
     "text": [
      "                   all       4335       7669      0.598      0.318      0.391       0.27\n",
      "\n",
      "      Epoch    GPU_mem   box_loss   cls_loss   dfl_loss  Instances       Size\n"
     ]
    },
    {
     "name": "stderr",
     "output_type": "stream",
     "text": [
      "       6/25      8.25G      1.153      1.028     0.8674        137        640: 100%|██████████| 813/813 [02:36<00:00,  5.18it/s]\n",
      "                 Class     Images  Instances      Box(P          R      mAP50  mAP50-95): 100%|██████████| 46/46 [00:13<00:00,  3.44it/s]\n"
     ]
    },
    {
     "name": "stdout",
     "output_type": "stream",
     "text": [
      "                   all       4335       7669      0.595      0.381      0.444      0.308\n",
      "\n",
      "      Epoch    GPU_mem   box_loss   cls_loss   dfl_loss  Instances       Size\n"
     ]
    },
    {
     "name": "stderr",
     "output_type": "stream",
     "text": [
      "       7/25      8.31G      1.127     0.9681     0.8615        124        640: 100%|██████████| 813/813 [02:35<00:00,  5.23it/s]\n",
      "                 Class     Images  Instances      Box(P          R      mAP50  mAP50-95): 100%|██████████| 46/46 [00:13<00:00,  3.49it/s]\n"
     ]
    },
    {
     "name": "stdout",
     "output_type": "stream",
     "text": [
      "                   all       4335       7669      0.695       0.38      0.483      0.337\n",
      "\n",
      "      Epoch    GPU_mem   box_loss   cls_loss   dfl_loss  Instances       Size\n"
     ]
    },
    {
     "name": "stderr",
     "output_type": "stream",
     "text": [
      "       8/25      8.26G      1.098     0.9281     0.8568        141        640: 100%|██████████| 813/813 [02:35<00:00,  5.22it/s]\n",
      "                 Class     Images  Instances      Box(P          R      mAP50  mAP50-95): 100%|██████████| 46/46 [00:13<00:00,  3.49it/s]\n"
     ]
    },
    {
     "name": "stdout",
     "output_type": "stream",
     "text": [
      "                   all       4335       7669      0.626      0.465       0.52      0.365\n",
      "\n",
      "      Epoch    GPU_mem   box_loss   cls_loss   dfl_loss  Instances       Size\n"
     ]
    },
    {
     "name": "stderr",
     "output_type": "stream",
     "text": [
      "       9/25      8.24G      1.081     0.8888     0.8544        107        640: 100%|██████████| 813/813 [02:35<00:00,  5.23it/s]\n",
      "                 Class     Images  Instances      Box(P          R      mAP50  mAP50-95): 100%|██████████| 46/46 [00:13<00:00,  3.46it/s]\n"
     ]
    },
    {
     "name": "stdout",
     "output_type": "stream",
     "text": [
      "                   all       4335       7669      0.649       0.45      0.556      0.396\n",
      "\n",
      "      Epoch    GPU_mem   box_loss   cls_loss   dfl_loss  Instances       Size\n"
     ]
    },
    {
     "name": "stderr",
     "output_type": "stream",
     "text": [
      "      10/25      8.25G      1.064     0.8588     0.8511         93        640: 100%|██████████| 813/813 [02:35<00:00,  5.23it/s]\n",
      "                 Class     Images  Instances      Box(P          R      mAP50  mAP50-95): 100%|██████████| 46/46 [00:13<00:00,  3.42it/s]\n"
     ]
    },
    {
     "name": "stdout",
     "output_type": "stream",
     "text": [
      "                   all       4335       7669      0.632      0.494      0.564      0.404\n",
      "\n",
      "      Epoch    GPU_mem   box_loss   cls_loss   dfl_loss  Instances       Size\n"
     ]
    },
    {
     "name": "stderr",
     "output_type": "stream",
     "text": [
      "      11/25      8.24G      1.054     0.8349     0.8487        118        640: 100%|██████████| 813/813 [02:36<00:00,  5.20it/s]\n",
      "                 Class     Images  Instances      Box(P          R      mAP50  mAP50-95): 100%|██████████| 46/46 [00:13<00:00,  3.43it/s]\n"
     ]
    },
    {
     "name": "stdout",
     "output_type": "stream",
     "text": [
      "                   all       4335       7669      0.618      0.533      0.581      0.417\n",
      "\n",
      "      Epoch    GPU_mem   box_loss   cls_loss   dfl_loss  Instances       Size\n"
     ]
    },
    {
     "name": "stderr",
     "output_type": "stream",
     "text": [
      "      12/25      8.25G      1.045     0.8157     0.8488        133        640: 100%|██████████| 813/813 [02:35<00:00,  5.22it/s]\n",
      "                 Class     Images  Instances      Box(P          R      mAP50  mAP50-95): 100%|██████████| 46/46 [00:13<00:00,  3.48it/s]\n"
     ]
    },
    {
     "name": "stdout",
     "output_type": "stream",
     "text": [
      "                   all       4335       7669       0.67      0.538      0.619      0.446\n",
      "\n",
      "      Epoch    GPU_mem   box_loss   cls_loss   dfl_loss  Instances       Size\n"
     ]
    },
    {
     "name": "stderr",
     "output_type": "stream",
     "text": [
      "      13/25      8.25G      1.032     0.7932      0.846        123        640: 100%|██████████| 813/813 [02:35<00:00,  5.22it/s]\n",
      "                 Class     Images  Instances      Box(P          R      mAP50  mAP50-95): 100%|██████████| 46/46 [00:13<00:00,  3.42it/s]\n"
     ]
    },
    {
     "name": "stdout",
     "output_type": "stream",
     "text": [
      "                   all       4335       7669       0.67      0.556      0.638      0.463\n",
      "\n",
      "      Epoch    GPU_mem   box_loss   cls_loss   dfl_loss  Instances       Size\n"
     ]
    },
    {
     "name": "stderr",
     "output_type": "stream",
     "text": [
      "      14/25      8.32G      1.024     0.7768     0.8443        143        640: 100%|██████████| 813/813 [02:37<00:00,  5.15it/s]\n",
      "                 Class     Images  Instances      Box(P          R      mAP50  mAP50-95): 100%|██████████| 46/46 [00:13<00:00,  3.42it/s]"
     ]
    },
    {
     "name": "stdout",
     "output_type": "stream",
     "text": [
      "                   all       4335       7669      0.682      0.556      0.664      0.486\n"
     ]
    },
    {
     "name": "stderr",
     "output_type": "stream",
     "text": [
      "\n"
     ]
    },
    {
     "name": "stdout",
     "output_type": "stream",
     "text": [
      "\n",
      "      Epoch    GPU_mem   box_loss   cls_loss   dfl_loss  Instances       Size\n"
     ]
    },
    {
     "name": "stderr",
     "output_type": "stream",
     "text": [
      "      15/25      8.26G      1.016     0.7606     0.8426        115        640: 100%|██████████| 813/813 [02:37<00:00,  5.17it/s]\n",
      "                 Class     Images  Instances      Box(P          R      mAP50  mAP50-95): 100%|██████████| 46/46 [00:13<00:00,  3.43it/s]"
     ]
    },
    {
     "name": "stdout",
     "output_type": "stream",
     "text": [
      "                   all       4335       7669      0.677      0.576      0.669      0.487\n"
     ]
    },
    {
     "name": "stderr",
     "output_type": "stream",
     "text": [
      "\n"
     ]
    },
    {
     "name": "stdout",
     "output_type": "stream",
     "text": [
      "Closing dataloader mosaic\n",
      "\n",
      "      Epoch    GPU_mem   box_loss   cls_loss   dfl_loss  Instances       Size\n"
     ]
    },
    {
     "name": "stderr",
     "output_type": "stream",
     "text": [
      "      16/25      8.44G     0.9979     0.7349     0.8455         69        640: 100%|██████████| 813/813 [02:30<00:00,  5.39it/s]\n",
      "                 Class     Images  Instances      Box(P          R      mAP50  mAP50-95): 100%|██████████| 46/46 [00:13<00:00,  3.45it/s]\n"
     ]
    },
    {
     "name": "stdout",
     "output_type": "stream",
     "text": [
      "                   all       4335       7669      0.684      0.586      0.662       0.48\n",
      "\n",
      "      Epoch    GPU_mem   box_loss   cls_loss   dfl_loss  Instances       Size\n"
     ]
    },
    {
     "name": "stderr",
     "output_type": "stream",
     "text": [
      "      17/25      8.19G     0.9844       0.72     0.8422         61        640: 100%|██████████| 813/813 [02:30<00:00,  5.41it/s]\n",
      "                 Class     Images  Instances      Box(P          R      mAP50  mAP50-95): 100%|██████████| 46/46 [00:13<00:00,  3.43it/s]\n"
     ]
    },
    {
     "name": "stdout",
     "output_type": "stream",
     "text": [
      "                   all       4335       7669      0.724      0.565      0.667      0.484\n",
      "\n",
      "      Epoch    GPU_mem   box_loss   cls_loss   dfl_loss  Instances       Size\n"
     ]
    },
    {
     "name": "stderr",
     "output_type": "stream",
     "text": [
      "      18/25      8.19G     0.9769     0.6959      0.841         65        640: 100%|██████████| 813/813 [02:30<00:00,  5.41it/s]\n",
      "                 Class     Images  Instances      Box(P          R      mAP50  mAP50-95): 100%|██████████| 46/46 [00:13<00:00,  3.47it/s]"
     ]
    },
    {
     "name": "stdout",
     "output_type": "stream",
     "text": [
      "                   all       4335       7669      0.685       0.61      0.675       0.49\n"
     ]
    },
    {
     "name": "stderr",
     "output_type": "stream",
     "text": [
      "\n"
     ]
    },
    {
     "name": "stdout",
     "output_type": "stream",
     "text": [
      "\n",
      "      Epoch    GPU_mem   box_loss   cls_loss   dfl_loss  Instances       Size\n"
     ]
    },
    {
     "name": "stderr",
     "output_type": "stream",
     "text": [
      "      19/25      8.25G     0.9683     0.6862     0.8399         69        640: 100%|██████████| 813/813 [02:30<00:00,  5.41it/s]\n",
      "                 Class     Images  Instances      Box(P          R      mAP50  mAP50-95): 100%|██████████| 46/46 [00:13<00:00,  3.46it/s]\n"
     ]
    },
    {
     "name": "stdout",
     "output_type": "stream",
     "text": [
      "                   all       4335       7669        0.7       0.61      0.679      0.494\n",
      "\n",
      "      Epoch    GPU_mem   box_loss   cls_loss   dfl_loss  Instances       Size\n"
     ]
    },
    {
     "name": "stderr",
     "output_type": "stream",
     "text": [
      "      20/25      8.19G     0.9569     0.6619     0.8394         68        640: 100%|██████████| 813/813 [02:30<00:00,  5.40it/s]\n",
      "                 Class     Images  Instances      Box(P          R      mAP50  mAP50-95): 100%|██████████| 46/46 [00:13<00:00,  3.47it/s]"
     ]
    },
    {
     "name": "stdout",
     "output_type": "stream",
     "text": [
      "                   all       4335       7669      0.714      0.604      0.685      0.501\n"
     ]
    },
    {
     "name": "stderr",
     "output_type": "stream",
     "text": [
      "\n"
     ]
    },
    {
     "name": "stdout",
     "output_type": "stream",
     "text": [
      "\n",
      "      Epoch    GPU_mem   box_loss   cls_loss   dfl_loss  Instances       Size\n"
     ]
    },
    {
     "name": "stderr",
     "output_type": "stream",
     "text": [
      "      21/25      8.19G     0.9452     0.6454     0.8356         61        640: 100%|██████████| 813/813 [02:30<00:00,  5.40it/s]\n",
      "                 Class     Images  Instances      Box(P          R      mAP50  mAP50-95): 100%|██████████| 46/46 [00:13<00:00,  3.48it/s]\n"
     ]
    },
    {
     "name": "stdout",
     "output_type": "stream",
     "text": [
      "                   all       4335       7669      0.727      0.606      0.685      0.501\n",
      "\n",
      "      Epoch    GPU_mem   box_loss   cls_loss   dfl_loss  Instances       Size\n"
     ]
    },
    {
     "name": "stderr",
     "output_type": "stream",
     "text": [
      "      22/25      8.19G     0.9319     0.6251     0.8332         65        640: 100%|██████████| 813/813 [02:31<00:00,  5.38it/s]\n",
      "                 Class     Images  Instances      Box(P          R      mAP50  mAP50-95): 100%|██████████| 46/46 [00:13<00:00,  3.46it/s]\n"
     ]
    },
    {
     "name": "stdout",
     "output_type": "stream",
     "text": [
      "                   all       4335       7669      0.709      0.622      0.693      0.506\n",
      "\n",
      "      Epoch    GPU_mem   box_loss   cls_loss   dfl_loss  Instances       Size\n"
     ]
    },
    {
     "name": "stderr",
     "output_type": "stream",
     "text": [
      "      23/25      8.25G     0.9209      0.609     0.8321         64        640: 100%|██████████| 813/813 [02:31<00:00,  5.37it/s]\n",
      "                 Class     Images  Instances      Box(P          R      mAP50  mAP50-95): 100%|██████████| 46/46 [00:13<00:00,  3.35it/s]\n"
     ]
    },
    {
     "name": "stdout",
     "output_type": "stream",
     "text": [
      "                   all       4335       7669      0.707      0.627      0.693      0.504\n",
      "\n",
      "      Epoch    GPU_mem   box_loss   cls_loss   dfl_loss  Instances       Size\n"
     ]
    },
    {
     "name": "stderr",
     "output_type": "stream",
     "text": [
      "      24/25      8.19G     0.9124     0.5943      0.831         60        640: 100%|██████████| 813/813 [02:31<00:00,  5.36it/s]\n",
      "                 Class     Images  Instances      Box(P          R      mAP50  mAP50-95): 100%|██████████| 46/46 [00:13<00:00,  3.34it/s]\n"
     ]
    },
    {
     "name": "stdout",
     "output_type": "stream",
     "text": [
      "                   all       4335       7669      0.725       0.63      0.698      0.509\n",
      "\n",
      "      Epoch    GPU_mem   box_loss   cls_loss   dfl_loss  Instances       Size\n"
     ]
    },
    {
     "name": "stderr",
     "output_type": "stream",
     "text": [
      "      25/25      8.19G     0.9035     0.5757     0.8291         76        640: 100%|██████████| 813/813 [02:30<00:00,  5.41it/s]\n",
      "                 Class     Images  Instances      Box(P          R      mAP50  mAP50-95): 100%|██████████| 46/46 [00:13<00:00,  3.42it/s]\n"
     ]
    },
    {
     "name": "stdout",
     "output_type": "stream",
     "text": [
      "                   all       4335       7669      0.725      0.634      0.701      0.513\n",
      "\n",
      "25 epochs completed in 1.178 hours.\n",
      "Optimizer stripped from runs\\detect\\yolov8n_ru_dataset_trans\\weights\\last.pt, 6.9MB\n",
      "Optimizer stripped from runs\\detect\\yolov8n_ru_dataset_trans\\weights\\best.pt, 6.9MB\n",
      "\n",
      "Validating runs\\detect\\yolov8n_ru_dataset_trans\\weights\\best.pt...\n",
      "Ultralytics YOLOv8.0.215 🚀 Python-3.8.18 torch-2.1.1 CUDA:0 (NVIDIA GeForce RTX 3090, 24576MiB)\n",
      "Model summary (fused): 168 layers, 3357389 parameters, 0 gradients, 9.7 GFLOPs\n"
     ]
    },
    {
     "name": "stderr",
     "output_type": "stream",
     "text": [
      "                 Class     Images  Instances      Box(P          R      mAP50  mAP50-95): 100%|██████████| 46/46 [00:15<00:00,  3.01it/s]\n"
     ]
    },
    {
     "name": "stdout",
     "output_type": "stream",
     "text": [
      "                   all       4335       7669      0.725      0.634      0.701      0.513\n",
      "        Главная дорога       4335        857      0.906       0.96      0.977      0.745\n",
      "                  Дети       4335        208      0.823      0.885      0.918      0.678\n",
      "Искусственная неровность       4335         99      0.773      0.899      0.917      0.658\n",
      "Ограничение максимальной скорости       4335        343      0.808      0.898      0.924      0.674\n",
      "         Зона действия       4335         81      0.636      0.884      0.825       0.57\n",
      "Искусственная неровность       4335        135      0.898      0.837      0.922      0.676\n",
      "    Пешеходный переход       4335       1698       0.82      0.939      0.944      0.679\n",
      "Место остановки автобуса и (или) троллейбуса       4335        368      0.831       0.95       0.95      0.687\n",
      "Конец зоны ограничения максимальной скорости       4335         16      0.783      0.688      0.752      0.512\n",
      "            Стоп-линия       4335        103      0.783       0.84      0.877       0.56\n",
      "Зона приёма радиостанции, передающей информацию о дорожном движении       4335          1          1          0      0.332      0.298\n",
      "  Конец главной дороги       4335         38      0.742      0.842      0.842      0.658\n",
      "       Уступите дорогу       4335        317      0.902      0.864      0.916      0.658\n",
      "                  8131       4335         14      0.639      0.571      0.607      0.378\n",
      "Объезд препятствия справа       4335         79      0.797      0.892      0.943      0.692\n",
      "        Сужение дороги       4335          5      0.363        0.4      0.248      0.183\n",
      "       Дорожные работы       4335         80      0.632      0.825      0.827      0.602\n",
      "Движение грузовых автомобилей запрещено       4335          7      0.704      0.429      0.429      0.386\n",
      "  Направления действия       4335          5      0.659       0.39      0.518      0.398\n",
      "                   341       4335         43      0.708      0.674      0.754      0.577\n",
      "Движение направо или налево       4335          5      0.895          1      0.995      0.756\n",
      "Объезд препятствия справа или слева       4335         75      0.832       0.92      0.949      0.719\n",
      "        Движение прямо       4335        155       0.81      0.851      0.899      0.676\n",
      "      Прочие опасности       4335         12          1      0.828      0.876      0.669\n",
      "          Конец полосы       4335         89      0.792      0.888      0.924      0.686\n",
      "   Остановка запрещена       4335        269      0.866      0.944       0.97      0.704\n",
      "      Скользкая дорога       4335         28      0.781      0.637      0.745      0.541\n",
      "                  4121       4335         13      0.856      0.846      0.927       0.66\n",
      "   Место для разворота       4335         12      0.858      0.833       0.85      0.697\n",
      " Расстояние до объекта       4335         13      0.582      0.643      0.629      0.459\n",
      "Надземный пешеходный переход       4335         11       0.86      0.559      0.793      0.636\n",
      "         Начало полосы       4335        114      0.849      0.877      0.922      0.715\n",
      "Автозаправочная станция       4335         72      0.688      0.888      0.868      0.656\n",
      "       Опасная обочина       4335          2      0.939          1      0.995      0.746\n",
      "Парковка (парковочное место)       4335         87      0.862      0.865      0.908      0.664\n",
      " Расстояние до объекта       4335          4      0.895          1      0.995      0.286\n",
      "       Неровная дорога       4335         24      0.537      0.583      0.633      0.456\n",
      "       Опасный поворот       4335         40      0.548        0.6      0.519      0.382\n",
      "Подземный пешеходный переход       4335         53      0.649       0.83      0.837      0.575\n",
      "Направления движения по полосам       4335        109      0.823      0.963      0.951      0.746\n",
      "              Больница       4335         16      0.919        0.5      0.695      0.524\n",
      "Направления движения по полосе       4335        344      0.857      0.956      0.952      0.703\n",
      "              Пост ДПС       4335         10      0.652        0.7      0.736      0.606\n",
      "                   318       4335         16      0.712        0.5      0.685      0.521\n",
      "Конец дороги с односторонним движением       4335         35      0.861      0.829      0.907      0.646\n",
      "Дорога с односторонним движением       4335         86      0.775      0.849      0.899      0.639\n",
      "Техническое обслуживание автомобилей       4335          9      0.642      0.889      0.854      0.649\n",
      "      Движение направо       4335         39      0.716      0.775      0.807      0.571\n",
      "         Зона действия       4335          6      0.697      0.771      0.913      0.657\n",
      "          Место отдыха       4335          8      0.512       0.79      0.671      0.518\n",
      "    Пешеходный переход       4335         72      0.737      0.856      0.857      0.634\n",
      "        Дикие животные       4335          5      0.426        0.6       0.49      0.376\n",
      "Примыкание второстепенной дороги       4335         79      0.513      0.785      0.594       0.44\n",
      "                 51522       4335        111      0.818      0.865      0.918      0.715\n",
      "Светофорное регулирование       4335         20      0.843       0.75      0.852      0.645\n",
      "    Ограничение высоты       4335         18      0.669      0.778      0.752      0.595\n",
      "                    23       4335         34      0.536      0.412      0.566        0.4\n",
      "Примыкание второстепенной дороги       4335         50      0.429       0.72      0.472      0.355\n",
      "         Пункт питания       4335         15      0.888        0.8      0.894      0.747\n",
      "                   111       4335         31      0.552      0.637      0.549      0.427\n",
      "Направление главной дороги       4335         49      0.613      0.612      0.689       0.48\n",
      "      Опасные повороты       4335         12      0.365      0.385      0.259      0.199\n",
      "                   120       4335          5      0.722        0.8      0.798      0.611\n",
      "                   112       4335         11      0.558      0.636      0.672      0.459\n",
      "Движение транспортных средств с опасными грузами запрещено       4335         13      0.798      0.609      0.628      0.431\n",
      "Движение без остановки запрещено       4335         35      0.729        0.8      0.865      0.654\n",
      "        Въезд запрещён       4335         67      0.751      0.761      0.825      0.584\n",
      "Направление движения транспортных средств с опасными грузами       4335          5      0.616        0.8      0.762      0.603\n",
      "        Обгон запрещён       4335        135       0.89      0.956      0.973      0.737\n",
      "    Движение запрещено       4335         10      0.859        0.6       0.78      0.616\n",
      "Примыкание второстепенной дороги       4335          2          1          0      0.078     0.0624\n",
      "      Конец жилой зоны       4335          4      0.787      0.937      0.945      0.723\n",
      "     Мойка автомобилей       4335         21      0.689      0.846      0.892      0.716\n",
      "Вид транспортного средства       4335          2          0          0     0.0193     0.0135\n",
      "    Ограничение ширины       4335          4          1      0.659      0.761      0.633\n",
      "Железнодорожный переезд без шлагбаума       4335         18       0.67      0.789      0.837      0.646\n",
      "        Сужение дороги       4335         26      0.573      0.615      0.646      0.477\n",
      "Движение прямо или направо       4335         84      0.789      0.869      0.869      0.642\n",
      "               Телефон       4335          4       0.63        0.5      0.478       0.39\n",
      "  Направления действия       4335          7      0.251      0.429       0.26      0.111\n",
      "     Круговое движение       4335         17      0.809      0.647      0.795      0.538\n",
      "Движение прямо или налево       4335         12      0.383      0.583      0.611       0.49\n",
      "         Зона действия       4335          5        0.7      0.479      0.566      0.459\n",
      "         Зона действия       4335          8      0.697      0.579       0.67      0.347\n",
      "               Тоннель       4335          3          1          0      0.416       0.32\n",
      "Движение пешеходов запрещено       4335          4      0.672       0.75      0.912      0.597\n",
      "Объезд препятствия слева       4335         46       0.76      0.848      0.904      0.676\n"
     ]
    },
    {
     "name": "stdout",
     "output_type": "stream",
     "text": [
      "Пункт первой медицинской помощи       4335          3      0.357      0.333      0.381      0.267\n",
      "     Стоянка запрещена       4335         19      0.818      0.947       0.97      0.753\n",
      "       Движение налево       4335          1       0.37          1      0.995      0.697\n",
      "Дорога для автомобилей       4335         12      0.929          1      0.995      0.674\n",
      "Конец зоны всех ограничений       4335         11      0.834      0.458      0.583      0.417\n",
      "Рекомендуемая скорость       4335         12      0.816          1      0.995      0.748\n",
      " Двустороннее движение       4335          4      0.527        0.5      0.641      0.565\n",
      "Конец зоны запрещения обгона       4335         25      0.906       0.88      0.931      0.651\n",
      "          Крутой спуск       4335          2      0.196          1      0.398      0.219\n",
      "         Крутой подъём       4335         13      0.584      0.615      0.665      0.438\n",
      "Примыкание второстепенной дороги       4335          1          1          0      0.332      0.265\n",
      "Направление движения для грузовых автомобилей       4335          2          1          0      0.663      0.423\n",
      "Преимущество встречного движения       4335          8          1      0.728      0.995      0.753\n",
      "Поворот налево запрещён       4335         15      0.603      0.733        0.7      0.523\n",
      "                  4122       4335         15      0.747      0.733      0.801      0.654\n",
      "Пересечение с круговым движением       4335          2      0.579        0.5       0.51      0.407\n",
      "     Разворот запрещён       4335          1          1          0     0.0216     0.0151\n",
      "         Выброс гравия       4335          2          1      0.837      0.995      0.647\n",
      "Преимущество перед встречным движением       4335          1          1          0      0.995      0.895\n",
      "        Время действия       4335         10      0.582      0.149      0.254       0.19\n",
      "Направление движения по полосам       4335         31      0.841      0.854      0.903      0.744\n",
      "                   514       4335         23      0.676      0.783      0.856      0.653\n",
      "            Жилая зона       4335          3      0.589          1      0.995      0.631\n",
      "Железнодорожный переезд со шлагбаумом       4335         18       0.57      0.738      0.749      0.545\n",
      "Направление движения для грузовых автомобилей       4335         16      0.908      0.938      0.955      0.647\n",
      "Способ постановки транспортного средства на стоянку       4335          9      0.738      0.333       0.64      0.393\n",
      "       Слепые пешеходы       4335         25      0.573        0.6      0.636      0.392\n",
      "                    45       4335          1          0          0          0          0\n",
      "     Ограничение массы       4335         10          1          0      0.236      0.202\n",
      "       Кроме инвалидов       4335          3      0.605      0.543      0.665      0.232\n",
      "Вид транспортного средства       4335          1      0.472      0.944      0.497      0.298\n",
      "Стоянка запрещена по чётным числам месяца       4335          5      0.676        0.8      0.906      0.646\n",
      "Выезд на дорогу с односторонним движением       4335         13      0.658      0.769      0.731      0.533\n",
      "Выезд на дорогу с односторонним движением       4335         10      0.501        0.8      0.657      0.508\n",
      "Пересечение с трамвайной линией       4335          6          1      0.776      0.895      0.772\n",
      "Стоянка запрещена по нечётным числам месяца.       4335          6      0.468      0.833      0.657      0.469\n",
      "Ограничение минимальной дистанции       4335          4          1          0      0.386      0.247\n",
      " Низколетящие самолёты       4335          1          1          0      0.497      0.448\n",
      "                   511       4335          6       0.57      0.333      0.501      0.289\n",
      "Пересечение равнозначных дорог       4335          2      0.725        0.5      0.506      0.351\n",
      "Способ постановки транспортного средства на стоянку       4335          1          1          0      0.497      0.398\n",
      "                 Тупик       4335          1      0.613          1      0.995      0.796\n",
      "Ограничение массы, приходящейся на ось транспортного средства       4335          2          0          0     0.0397     0.0238\n",
      "                   843       4335          2          1          0          0          0\n",
      "  Реверсивное движение       4335          1      0.943          1      0.995      0.597\n",
      "              Инвалиды       4335          2          1          0      0.521      0.358\n",
      "Движение тракторов запрещено       4335          1          1          0          0          0\n",
      "           Рабочие дни       4335          6      0.618      0.667      0.572      0.415\n",
      "                 Тупик       4335          1          0          0          0          0\n",
      "   Выезд на набережную       4335          1          1          0      0.995      0.697\n",
      "                Туалет       4335          1          1          0      0.199      0.179\n",
      "                   714       4335          1          1          0      0.332      0.298\n",
      "Speed: 0.1ms preprocess, 0.4ms inference, 0.0ms loss, 0.5ms postprocess per image\n",
      "Results saved to \u001b[1mruns\\detect\\yolov8n_ru_dataset_trans\u001b[0m\n"
     ]
    }
   ],
   "source": [
    "model = YOLO('yolov8n.pt')\n",
    "\n",
    "model.to('cuda')\n",
    "\n",
    "results = model.train(\n",
    "   data='data_ru_translate.yaml',\n",
    "   imgsz=640,\n",
    "   epochs=25,\n",
    "   batch=48,\n",
    "   name='yolov8n_ru_dataset_trans' \n",
    ")"
   ]
  }
 ],
 "metadata": {
  "kernelspec": {
   "display_name": "Python 3 (ipykernel)",
   "language": "python",
   "name": "python3"
  },
  "language_info": {
   "codemirror_mode": {
    "name": "ipython",
    "version": 3
   },
   "file_extension": ".py",
   "mimetype": "text/x-python",
   "name": "python",
   "nbconvert_exporter": "python",
   "pygments_lexer": "ipython3",
   "version": "3.8.18"
  }
 },
 "nbformat": 4,
 "nbformat_minor": 5
}
