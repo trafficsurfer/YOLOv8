{
 "cells": [
  {
   "cell_type": "code",
   "execution_count": 1,
   "id": "54b3f58e",
   "metadata": {},
   "outputs": [
    {
     "name": "stderr",
     "output_type": "stream",
     "text": [
      "C:\\Users\\User\\anaconda3\\envs\\myenv_py_3_8_dl\\lib\\site-packages\\numpy\\_distributor_init.py:30: UserWarning: loaded more than 1 DLL from .libs:\n",
      "C:\\Users\\User\\anaconda3\\envs\\myenv_py_3_8_dl\\lib\\site-packages\\numpy\\.libs\\libopenblas.FB5AE2TYXYH2IJRDKGDGQ3XBKLKTF43H.gfortran-win_amd64.dll\n",
      "C:\\Users\\User\\anaconda3\\envs\\myenv_py_3_8_dl\\lib\\site-packages\\numpy\\.libs\\libopenblas64__v0.3.21-gcc_10_3_0.dll\n",
      "  warnings.warn(\"loaded more than 1 DLL from .libs:\"\n"
     ]
    }
   ],
   "source": [
    "from ultralytics import YOLO\n",
    "import torch"
   ]
  },
  {
   "cell_type": "code",
   "execution_count": 2,
   "id": "ab480908",
   "metadata": {},
   "outputs": [
    {
     "name": "stdout",
     "output_type": "stream",
     "text": [
      "True\n",
      "True\n",
      "0\n",
      "NVIDIA GeForce RTX 3090\n",
      "Using device: cuda\n"
     ]
    }
   ],
   "source": [
    "print(torch.cuda.is_available())\n",
    "print(torch.cuda.is_available())\n",
    "print(torch.cuda.current_device())\n",
    "print(torch.cuda.get_device_name(torch.cuda.current_device()))\n",
    "\n",
    "device = 'cuda' if torch.cuda.is_available() else 'cpu'\n",
    "print(f'Using device: {device}')"
   ]
  },
  {
   "cell_type": "markdown",
   "id": "6e14f0c2",
   "metadata": {},
   "source": [
    "### YOLO v8n"
   ]
  },
  {
   "cell_type": "code",
   "execution_count": null,
   "id": "1e508cd2",
   "metadata": {
    "scrolled": false
   },
   "outputs": [],
   "source": [
    "model = YOLO('yolov8n.pt')\n",
    "\n",
    "model.to('cuda')\n",
    "\n",
    "results = model.train(\n",
    "   data='data_ru_translate.yaml',\n",
    "   imgsz=640,\n",
    "   epochs=50,\n",
    "   batch=48,\n",
    "   name='yolov8n_ru_dataset_50' \n",
    ")"
   ]
  },
  {
   "cell_type": "markdown",
   "id": "7d9bf5f9",
   "metadata": {},
   "source": [
    "### YOLO v8s"
   ]
  },
  {
   "cell_type": "code",
   "execution_count": 5,
   "id": "214d3fae",
   "metadata": {
    "scrolled": false
   },
   "outputs": [
    {
     "name": "stdout",
     "output_type": "stream",
     "text": [
      "New https://pypi.org/project/ultralytics/8.0.216 available 😃 Update with 'pip install -U ultralytics'\n",
      "\u001b[34m\u001b[1mengine\\trainer: \u001b[0mtask=detect, mode=train, model=yolov8s.pt, data=data_ru_translate.yaml, epochs=25, patience=50, batch=48, imgsz=640, save=True, save_period=-1, cache=False, device=cuda:0, workers=8, project=None, name=yolov8s_ru_dataset_25, exist_ok=False, pretrained=True, optimizer=auto, verbose=True, seed=0, deterministic=True, single_cls=False, rect=False, cos_lr=False, close_mosaic=10, resume=False, amp=True, fraction=1.0, profile=False, freeze=None, overlap_mask=True, mask_ratio=4, dropout=0.0, val=True, split=val, save_json=False, save_hybrid=False, conf=None, iou=0.7, max_det=300, half=False, dnn=False, plots=True, source=None, show=False, save_txt=False, save_conf=False, save_crop=False, show_labels=True, show_conf=True, vid_stride=1, stream_buffer=False, line_width=None, visualize=False, augment=False, agnostic_nms=False, classes=None, retina_masks=False, boxes=True, format=torchscript, keras=False, optimize=False, int8=False, dynamic=False, simplify=False, opset=None, workspace=4, nms=False, lr0=0.01, lrf=0.01, momentum=0.937, weight_decay=0.0005, warmup_epochs=3.0, warmup_momentum=0.8, warmup_bias_lr=0.1, box=7.5, cls=0.5, dfl=1.5, pose=12.0, kobj=1.0, label_smoothing=0.0, nbs=64, hsv_h=0.015, hsv_s=0.7, hsv_v=0.4, degrees=0.0, translate=0.1, scale=0.5, shear=0.0, perspective=0.0, flipud=0.0, fliplr=0.5, mosaic=1.0, mixup=0.0, copy_paste=0.0, cfg=None, tracker=botsort.yaml, save_dir=runs\\detect\\yolov8s_ru_dataset_25\n",
      "Overriding model.yaml nc=80 with nc=155\n",
      "\n",
      "                   from  n    params  module                                       arguments                     \n",
      "  0                  -1  1       928  ultralytics.nn.modules.conv.Conv             [3, 32, 3, 2]                 \n",
      "  1                  -1  1     18560  ultralytics.nn.modules.conv.Conv             [32, 64, 3, 2]                \n",
      "  2                  -1  1     29056  ultralytics.nn.modules.block.C2f             [64, 64, 1, True]             \n",
      "  3                  -1  1     73984  ultralytics.nn.modules.conv.Conv             [64, 128, 3, 2]               \n",
      "  4                  -1  2    197632  ultralytics.nn.modules.block.C2f             [128, 128, 2, True]           \n",
      "  5                  -1  1    295424  ultralytics.nn.modules.conv.Conv             [128, 256, 3, 2]              \n",
      "  6                  -1  2    788480  ultralytics.nn.modules.block.C2f             [256, 256, 2, True]           \n",
      "  7                  -1  1   1180672  ultralytics.nn.modules.conv.Conv             [256, 512, 3, 2]              \n",
      "  8                  -1  1   1838080  ultralytics.nn.modules.block.C2f             [512, 512, 1, True]           \n",
      "  9                  -1  1    656896  ultralytics.nn.modules.block.SPPF            [512, 512, 5]                 \n",
      " 10                  -1  1         0  torch.nn.modules.upsampling.Upsample         [None, 2, 'nearest']          \n",
      " 11             [-1, 6]  1         0  ultralytics.nn.modules.conv.Concat           [1]                           \n",
      " 12                  -1  1    591360  ultralytics.nn.modules.block.C2f             [768, 256, 1]                 \n",
      " 13                  -1  1         0  torch.nn.modules.upsampling.Upsample         [None, 2, 'nearest']          \n",
      " 14             [-1, 4]  1         0  ultralytics.nn.modules.conv.Concat           [1]                           \n",
      " 15                  -1  1    148224  ultralytics.nn.modules.block.C2f             [384, 128, 1]                 \n",
      " 16                  -1  1    147712  ultralytics.nn.modules.conv.Conv             [128, 128, 3, 2]              \n",
      " 17            [-1, 12]  1         0  ultralytics.nn.modules.conv.Concat           [1]                           \n",
      " 18                  -1  1    493056  ultralytics.nn.modules.block.C2f             [384, 256, 1]                 \n",
      " 19                  -1  1    590336  ultralytics.nn.modules.conv.Conv             [256, 256, 3, 2]              \n",
      " 20             [-1, 9]  1         0  ultralytics.nn.modules.conv.Concat           [1]                           \n",
      " 21                  -1  1   1969152  ultralytics.nn.modules.block.C2f             [768, 512, 1]                 \n",
      " 22        [15, 18, 21]  1   2176033  ultralytics.nn.modules.head.Detect           [155, [128, 256, 512]]        \n",
      "Model summary: 225 layers, 11195585 parameters, 11195569 gradients, 29.0 GFLOPs\n",
      "\n",
      "Transferred 349/355 items from pretrained weights\n",
      "\u001b[34m\u001b[1mTensorBoard: \u001b[0mStart with 'tensorboard --logdir runs\\detect\\yolov8s_ru_dataset_25', view at http://localhost:6006/\n",
      "Freezing layer 'model.22.dfl.conv.weight'\n",
      "\u001b[34m\u001b[1mAMP: \u001b[0mrunning Automatic Mixed Precision (AMP) checks with YOLOv8n...\n",
      "\u001b[34m\u001b[1mAMP: \u001b[0mchecks passed ✅\n"
     ]
    },
    {
     "name": "stderr",
     "output_type": "stream",
     "text": [
      "\u001b[34m\u001b[1mtrain: \u001b[0mScanning C:\\Users\\User\\Documents\\Projects\\itmo_deep_learning\\archive\\train\\labels.cache... 39015 images, 0 backgrounds, 0 corrupt: 100%|██████████| 39015/39015 [00:00<?, ?it/s]\n",
      "\u001b[34m\u001b[1mval: \u001b[0mScanning C:\\Users\\User\\Documents\\Projects\\itmo_deep_learning\\archive\\valid\\labels.cache... 4335 images, 0 backgrounds, 0 corrupt: 100%|██████████| 4335/4335 [00:00<?, ?it/s]\n"
     ]
    },
    {
     "name": "stdout",
     "output_type": "stream",
     "text": [
      "Plotting labels to runs\\detect\\yolov8s_ru_dataset_25\\labels.jpg... \n",
      "\u001b[34m\u001b[1moptimizer:\u001b[0m 'optimizer=auto' found, ignoring 'lr0=0.01' and 'momentum=0.937' and determining best 'optimizer', 'lr0' and 'momentum' automatically... \n",
      "\u001b[34m\u001b[1moptimizer:\u001b[0m SGD(lr=0.01, momentum=0.9) with parameter groups 57 weight(decay=0.0), 64 weight(decay=0.000375), 63 bias(decay=0.0)\n",
      "Image sizes 640 train, 640 val\n",
      "Using 8 dataloader workers\n",
      "Logging results to \u001b[1mruns\\detect\\yolov8s_ru_dataset_25\u001b[0m\n",
      "Starting training for 25 epochs...\n",
      "\n",
      "      Epoch    GPU_mem   box_loss   cls_loss   dfl_loss  Instances       Size\n"
     ]
    },
    {
     "name": "stderr",
     "output_type": "stream",
     "text": [
      "       1/25      12.7G      1.236      3.493     0.8854        127        640: 100%|██████████| 813/813 [03:35<00:00,  3.77it/s]\n",
      "                 Class     Images  Instances      Box(P          R      mAP50  mAP50-95): 100%|██████████| 46/46 [00:16<00:00,  2.83it/s]\n"
     ]
    },
    {
     "name": "stdout",
     "output_type": "stream",
     "text": [
      "                   all       4335       7669       0.62      0.235      0.231      0.158\n",
      "\n",
      "      Epoch    GPU_mem   box_loss   cls_loss   dfl_loss  Instances       Size\n"
     ]
    },
    {
     "name": "stderr",
     "output_type": "stream",
     "text": [
      "       2/25      12.7G       1.17      1.234      0.867        103        640: 100%|██████████| 813/813 [03:35<00:00,  3.77it/s]\n",
      "                 Class     Images  Instances      Box(P          R      mAP50  mAP50-95): 100%|██████████| 46/46 [00:15<00:00,  2.89it/s]\n"
     ]
    },
    {
     "name": "stdout",
     "output_type": "stream",
     "text": [
      "                   all       4335       7669      0.561      0.287      0.305      0.204\n",
      "\n",
      "      Epoch    GPU_mem   box_loss   cls_loss   dfl_loss  Instances       Size\n"
     ]
    },
    {
     "name": "stderr",
     "output_type": "stream",
     "text": [
      "       3/25      12.8G      1.203      1.145     0.8768        134        640: 100%|██████████| 813/813 [03:35<00:00,  3.77it/s]\n",
      "                 Class     Images  Instances      Box(P          R      mAP50  mAP50-95): 100%|██████████| 46/46 [00:16<00:00,  2.85it/s]\n"
     ]
    },
    {
     "name": "stdout",
     "output_type": "stream",
     "text": [
      "                   all       4335       7669      0.563      0.232      0.277      0.182\n",
      "\n",
      "      Epoch    GPU_mem   box_loss   cls_loss   dfl_loss  Instances       Size\n"
     ]
    },
    {
     "name": "stderr",
     "output_type": "stream",
     "text": [
      "       4/25      12.8G      1.182      1.075     0.8735        143        640: 100%|██████████| 813/813 [03:35<00:00,  3.77it/s]\n",
      "                 Class     Images  Instances      Box(P          R      mAP50  mAP50-95): 100%|██████████| 46/46 [00:16<00:00,  2.87it/s]\n"
     ]
    },
    {
     "name": "stdout",
     "output_type": "stream",
     "text": [
      "                   all       4335       7669      0.565       0.38      0.425      0.293\n",
      "\n",
      "      Epoch    GPU_mem   box_loss   cls_loss   dfl_loss  Instances       Size\n"
     ]
    },
    {
     "name": "stderr",
     "output_type": "stream",
     "text": [
      "       5/25      12.7G      1.115     0.9462     0.8611        109        640: 100%|██████████| 813/813 [03:35<00:00,  3.77it/s]\n",
      "                 Class     Images  Instances      Box(P          R      mAP50  mAP50-95): 100%|██████████| 46/46 [00:15<00:00,  2.89it/s]\n"
     ]
    },
    {
     "name": "stdout",
     "output_type": "stream",
     "text": [
      "                   all       4335       7669      0.594      0.493      0.534      0.374\n",
      "\n",
      "      Epoch    GPU_mem   box_loss   cls_loss   dfl_loss  Instances       Size\n"
     ]
    },
    {
     "name": "stderr",
     "output_type": "stream",
     "text": [
      "       6/25      12.7G      1.075     0.8724     0.8557        137        640: 100%|██████████| 813/813 [03:35<00:00,  3.77it/s]\n",
      "                 Class     Images  Instances      Box(P          R      mAP50  mAP50-95): 100%|██████████| 46/46 [00:15<00:00,  2.88it/s]\n"
     ]
    },
    {
     "name": "stdout",
     "output_type": "stream",
     "text": [
      "                   all       4335       7669      0.628      0.496      0.582      0.419\n",
      "\n",
      "      Epoch    GPU_mem   box_loss   cls_loss   dfl_loss  Instances       Size\n"
     ]
    },
    {
     "name": "stderr",
     "output_type": "stream",
     "text": [
      "       7/25      12.8G      1.047     0.8171     0.8501        124        640: 100%|██████████| 813/813 [03:35<00:00,  3.77it/s]\n",
      "                 Class     Images  Instances      Box(P          R      mAP50  mAP50-95): 100%|██████████| 46/46 [00:15<00:00,  2.92it/s]\n"
     ]
    },
    {
     "name": "stdout",
     "output_type": "stream",
     "text": [
      "                   all       4335       7669      0.657      0.523      0.626      0.447\n",
      "\n",
      "      Epoch    GPU_mem   box_loss   cls_loss   dfl_loss  Instances       Size\n"
     ]
    },
    {
     "name": "stderr",
     "output_type": "stream",
     "text": [
      "       8/25      12.7G      1.018     0.7767     0.8453        141        640: 100%|██████████| 813/813 [03:35<00:00,  3.77it/s]\n",
      "                 Class     Images  Instances      Box(P          R      mAP50  mAP50-95): 100%|██████████| 46/46 [00:15<00:00,  2.88it/s]\n"
     ]
    },
    {
     "name": "stdout",
     "output_type": "stream",
     "text": [
      "                   all       4335       7669      0.674      0.586      0.657      0.474\n",
      "\n",
      "      Epoch    GPU_mem   box_loss   cls_loss   dfl_loss  Instances       Size\n"
     ]
    },
    {
     "name": "stderr",
     "output_type": "stream",
     "text": [
      "       9/25      12.7G          1     0.7418     0.8429        107        640: 100%|██████████| 813/813 [03:35<00:00,  3.77it/s]\n",
      "                 Class     Images  Instances      Box(P          R      mAP50  mAP50-95): 100%|██████████| 46/46 [00:15<00:00,  2.89it/s]\n"
     ]
    },
    {
     "name": "stdout",
     "output_type": "stream",
     "text": [
      "                   all       4335       7669      0.733      0.556      0.676      0.497\n",
      "\n",
      "      Epoch    GPU_mem   box_loss   cls_loss   dfl_loss  Instances       Size\n"
     ]
    },
    {
     "name": "stderr",
     "output_type": "stream",
     "text": [
      "      10/25      12.7G     0.9835     0.7166     0.8403         93        640: 100%|██████████| 813/813 [03:35<00:00,  3.77it/s]\n",
      "                 Class     Images  Instances      Box(P          R      mAP50  mAP50-95): 100%|██████████| 46/46 [00:15<00:00,  2.89it/s]\n"
     ]
    },
    {
     "name": "stdout",
     "output_type": "stream",
     "text": [
      "                   all       4335       7669      0.697      0.609      0.707      0.513\n",
      "\n",
      "      Epoch    GPU_mem   box_loss   cls_loss   dfl_loss  Instances       Size\n"
     ]
    },
    {
     "name": "stderr",
     "output_type": "stream",
     "text": [
      "      11/25      12.7G     0.9723     0.6914     0.8382        118        640: 100%|██████████| 813/813 [03:35<00:00,  3.77it/s]\n",
      "                 Class     Images  Instances      Box(P          R      mAP50  mAP50-95): 100%|██████████| 46/46 [00:15<00:00,  2.89it/s]\n"
     ]
    },
    {
     "name": "stdout",
     "output_type": "stream",
     "text": [
      "                   all       4335       7669      0.704      0.647      0.737      0.545\n",
      "\n",
      "      Epoch    GPU_mem   box_loss   cls_loss   dfl_loss  Instances       Size\n"
     ]
    },
    {
     "name": "stderr",
     "output_type": "stream",
     "text": [
      "      12/25      12.7G      0.963     0.6767     0.8379        133        640: 100%|██████████| 813/813 [03:35<00:00,  3.77it/s]\n",
      "                 Class     Images  Instances      Box(P          R      mAP50  mAP50-95): 100%|██████████| 46/46 [00:15<00:00,  2.88it/s]"
     ]
    },
    {
     "name": "stdout",
     "output_type": "stream",
     "text": [
      "                   all       4335       7669      0.739      0.656      0.743      0.545\n"
     ]
    },
    {
     "name": "stderr",
     "output_type": "stream",
     "text": [
      "\n"
     ]
    },
    {
     "name": "stdout",
     "output_type": "stream",
     "text": [
      "\n",
      "      Epoch    GPU_mem   box_loss   cls_loss   dfl_loss  Instances       Size\n"
     ]
    },
    {
     "name": "stderr",
     "output_type": "stream",
     "text": [
      "      13/25      12.7G      0.949     0.6542     0.8352        123        640: 100%|██████████| 813/813 [03:35<00:00,  3.76it/s]\n",
      "                 Class     Images  Instances      Box(P          R      mAP50  mAP50-95): 100%|██████████| 46/46 [00:15<00:00,  2.89it/s]\n"
     ]
    },
    {
     "name": "stdout",
     "output_type": "stream",
     "text": [
      "                   all       4335       7669      0.777      0.659      0.763      0.567\n",
      "\n",
      "      Epoch    GPU_mem   box_loss   cls_loss   dfl_loss  Instances       Size\n"
     ]
    },
    {
     "name": "stderr",
     "output_type": "stream",
     "text": [
      "      14/25      12.8G     0.9411     0.6394     0.8339        143        640: 100%|██████████| 813/813 [03:35<00:00,  3.77it/s]\n",
      "                 Class     Images  Instances      Box(P          R      mAP50  mAP50-95): 100%|██████████| 46/46 [00:15<00:00,  2.89it/s]\n"
     ]
    },
    {
     "name": "stdout",
     "output_type": "stream",
     "text": [
      "                   all       4335       7669      0.729      0.712      0.771      0.569\n",
      "\n",
      "      Epoch    GPU_mem   box_loss   cls_loss   dfl_loss  Instances       Size\n"
     ]
    },
    {
     "name": "stderr",
     "output_type": "stream",
     "text": [
      "      15/25      12.8G     0.9321     0.6218     0.8322        115        640: 100%|██████████| 813/813 [03:35<00:00,  3.77it/s]\n",
      "                 Class     Images  Instances      Box(P          R      mAP50  mAP50-95): 100%|██████████| 46/46 [00:15<00:00,  2.89it/s]"
     ]
    },
    {
     "name": "stdout",
     "output_type": "stream",
     "text": [
      "                   all       4335       7669      0.744      0.711      0.781      0.581\n"
     ]
    },
    {
     "name": "stderr",
     "output_type": "stream",
     "text": [
      "\n"
     ]
    },
    {
     "name": "stdout",
     "output_type": "stream",
     "text": [
      "Closing dataloader mosaic\n",
      "\n",
      "      Epoch    GPU_mem   box_loss   cls_loss   dfl_loss  Instances       Size\n"
     ]
    },
    {
     "name": "stderr",
     "output_type": "stream",
     "text": [
      "      16/25      12.9G     0.9244     0.6097     0.8349         69        640: 100%|██████████| 813/813 [03:31<00:00,  3.84it/s]\n",
      "                 Class     Images  Instances      Box(P          R      mAP50  mAP50-95): 100%|██████████| 46/46 [00:15<00:00,  2.91it/s]"
     ]
    },
    {
     "name": "stdout",
     "output_type": "stream",
     "text": [
      "                   all       4335       7669       0.73      0.723      0.794       0.59\n"
     ]
    },
    {
     "name": "stderr",
     "output_type": "stream",
     "text": [
      "\n"
     ]
    },
    {
     "name": "stdout",
     "output_type": "stream",
     "text": [
      "\n",
      "      Epoch    GPU_mem   box_loss   cls_loss   dfl_loss  Instances       Size\n"
     ]
    },
    {
     "name": "stderr",
     "output_type": "stream",
     "text": [
      "      17/25      12.7G     0.9134     0.5945     0.8325         61        640: 100%|██████████| 813/813 [03:31<00:00,  3.84it/s]\n",
      "                 Class     Images  Instances      Box(P          R      mAP50  mAP50-95): 100%|██████████| 46/46 [00:15<00:00,  2.94it/s]\n"
     ]
    },
    {
     "name": "stdout",
     "output_type": "stream",
     "text": [
      "                   all       4335       7669       0.74        0.7      0.791       0.59\n",
      "\n",
      "      Epoch    GPU_mem   box_loss   cls_loss   dfl_loss  Instances       Size\n"
     ]
    },
    {
     "name": "stderr",
     "output_type": "stream",
     "text": [
      "      18/25      12.7G     0.9057     0.5784     0.8308         65        640: 100%|██████████| 813/813 [03:31<00:00,  3.84it/s]\n",
      "                 Class     Images  Instances      Box(P          R      mAP50  mAP50-95): 100%|██████████| 46/46 [00:15<00:00,  2.91it/s]"
     ]
    },
    {
     "name": "stdout",
     "output_type": "stream",
     "text": [
      "                   all       4335       7669       0.75       0.72        0.8      0.597\n"
     ]
    },
    {
     "name": "stderr",
     "output_type": "stream",
     "text": [
      "\n"
     ]
    },
    {
     "name": "stdout",
     "output_type": "stream",
     "text": [
      "\n",
      "      Epoch    GPU_mem   box_loss   cls_loss   dfl_loss  Instances       Size\n"
     ]
    },
    {
     "name": "stderr",
     "output_type": "stream",
     "text": [
      "      19/25      12.7G     0.8963     0.5642       0.83         69        640: 100%|██████████| 813/813 [03:31<00:00,  3.84it/s]\n",
      "                 Class     Images  Instances      Box(P          R      mAP50  mAP50-95): 100%|██████████| 46/46 [00:15<00:00,  2.92it/s]\n"
     ]
    },
    {
     "name": "stdout",
     "output_type": "stream",
     "text": [
      "                   all       4335       7669      0.758      0.713      0.808      0.606\n",
      "\n",
      "      Epoch    GPU_mem   box_loss   cls_loss   dfl_loss  Instances       Size\n"
     ]
    },
    {
     "name": "stderr",
     "output_type": "stream",
     "text": [
      "      20/25      12.7G     0.8823     0.5449     0.8292         68        640: 100%|██████████| 813/813 [03:31<00:00,  3.84it/s]\n",
      "                 Class     Images  Instances      Box(P          R      mAP50  mAP50-95): 100%|██████████| 46/46 [00:15<00:00,  2.90it/s]"
     ]
    },
    {
     "name": "stdout",
     "output_type": "stream",
     "text": [
      "                   all       4335       7669      0.768      0.718      0.806      0.605\n"
     ]
    },
    {
     "name": "stderr",
     "output_type": "stream",
     "text": [
      "\n"
     ]
    },
    {
     "name": "stdout",
     "output_type": "stream",
     "text": [
      "\n",
      "      Epoch    GPU_mem   box_loss   cls_loss   dfl_loss  Instances       Size\n"
     ]
    },
    {
     "name": "stderr",
     "output_type": "stream",
     "text": [
      "      21/25      12.7G     0.8697     0.5292     0.8254         61        640: 100%|██████████| 813/813 [03:31<00:00,  3.84it/s]\n",
      "                 Class     Images  Instances      Box(P          R      mAP50  mAP50-95): 100%|██████████| 46/46 [00:15<00:00,  2.91it/s]"
     ]
    },
    {
     "name": "stdout",
     "output_type": "stream",
     "text": [
      "                   all       4335       7669      0.783      0.717      0.811      0.608\n"
     ]
    },
    {
     "name": "stderr",
     "output_type": "stream",
     "text": [
      "\n"
     ]
    },
    {
     "name": "stdout",
     "output_type": "stream",
     "text": [
      "\n",
      "      Epoch    GPU_mem   box_loss   cls_loss   dfl_loss  Instances       Size\n"
     ]
    },
    {
     "name": "stderr",
     "output_type": "stream",
     "text": [
      "      22/25      12.7G     0.8579     0.5102     0.8235         65        640: 100%|██████████| 813/813 [03:31<00:00,  3.85it/s]\n",
      "                 Class     Images  Instances      Box(P          R      mAP50  mAP50-95): 100%|██████████| 46/46 [00:15<00:00,  2.93it/s]"
     ]
    },
    {
     "name": "stdout",
     "output_type": "stream",
     "text": [
      "                   all       4335       7669      0.792      0.715      0.817      0.616\n"
     ]
    },
    {
     "name": "stderr",
     "output_type": "stream",
     "text": [
      "\n"
     ]
    },
    {
     "name": "stdout",
     "output_type": "stream",
     "text": [
      "\n",
      "      Epoch    GPU_mem   box_loss   cls_loss   dfl_loss  Instances       Size\n"
     ]
    },
    {
     "name": "stderr",
     "output_type": "stream",
     "text": [
      "      23/25      12.7G     0.8455     0.4954      0.822         64        640: 100%|██████████| 813/813 [03:31<00:00,  3.85it/s]\n",
      "                 Class     Images  Instances      Box(P          R      mAP50  mAP50-95): 100%|██████████| 46/46 [00:15<00:00,  2.93it/s]"
     ]
    },
    {
     "name": "stdout",
     "output_type": "stream",
     "text": [
      "                   all       4335       7669       0.73      0.762      0.819      0.618\n"
     ]
    },
    {
     "name": "stderr",
     "output_type": "stream",
     "text": [
      "\n"
     ]
    },
    {
     "name": "stdout",
     "output_type": "stream",
     "text": [
      "\n",
      "      Epoch    GPU_mem   box_loss   cls_loss   dfl_loss  Instances       Size\n"
     ]
    },
    {
     "name": "stderr",
     "output_type": "stream",
     "text": [
      "      24/25      12.7G      0.835     0.4787     0.8205         60        640: 100%|██████████| 813/813 [03:31<00:00,  3.85it/s]\n",
      "                 Class     Images  Instances      Box(P          R      mAP50  mAP50-95): 100%|██████████| 46/46 [00:15<00:00,  2.94it/s]"
     ]
    },
    {
     "name": "stdout",
     "output_type": "stream",
     "text": [
      "                   all       4335       7669      0.749      0.761      0.823      0.621\n"
     ]
    },
    {
     "name": "stderr",
     "output_type": "stream",
     "text": [
      "\n"
     ]
    },
    {
     "name": "stdout",
     "output_type": "stream",
     "text": [
      "\n",
      "      Epoch    GPU_mem   box_loss   cls_loss   dfl_loss  Instances       Size\n"
     ]
    },
    {
     "name": "stderr",
     "output_type": "stream",
     "text": [
      "      25/25      12.7G      0.825     0.4643     0.8188         76        640: 100%|██████████| 813/813 [03:31<00:00,  3.85it/s]\n",
      "                 Class     Images  Instances      Box(P          R      mAP50  mAP50-95): 100%|██████████| 46/46 [00:15<00:00,  2.94it/s]"
     ]
    },
    {
     "name": "stdout",
     "output_type": "stream",
     "text": [
      "                   all       4335       7669       0.77      0.754      0.825      0.623\n"
     ]
    },
    {
     "name": "stderr",
     "output_type": "stream",
     "text": [
      "\n"
     ]
    },
    {
     "name": "stdout",
     "output_type": "stream",
     "text": [
      "\n",
      "25 epochs completed in 1.608 hours.\n",
      "Optimizer stripped from runs\\detect\\yolov8s_ru_dataset_25\\weights\\last.pt, 22.6MB\n",
      "Optimizer stripped from runs\\detect\\yolov8s_ru_dataset_25\\weights\\best.pt, 22.6MB\n",
      "\n",
      "Validating runs\\detect\\yolov8s_ru_dataset_25\\weights\\best.pt...\n",
      "Ultralytics YOLOv8.0.215 🚀 Python-3.8.18 torch-2.1.1 CUDA:0 (NVIDIA GeForce RTX 3090, 24576MiB)\n",
      "Model summary (fused): 168 layers, 11185569 parameters, 0 gradients, 28.8 GFLOPs\n"
     ]
    },
    {
     "name": "stderr",
     "output_type": "stream",
     "text": [
      "                 Class     Images  Instances      Box(P          R      mAP50  mAP50-95): 100%|██████████| 46/46 [00:16<00:00,  2.76it/s]\n"
     ]
    },
    {
     "name": "stdout",
     "output_type": "stream",
     "text": [
      "                   all       4335       7669       0.77      0.754      0.825      0.623\n",
      "        Главная дорога       4335        857      0.931      0.971      0.984      0.774\n",
      "                  Дети       4335        208      0.894      0.928      0.963      0.733\n",
      "Искусственная неровность       4335         99      0.885      0.936      0.941      0.705\n",
      "Ограничение максимальной скорости       4335        343      0.874      0.933      0.957      0.728\n",
      "         Зона действия       4335         81      0.674      0.864      0.828      0.612\n",
      "Искусственная неровность       4335        135      0.946      0.917      0.971      0.735\n",
      "    Пешеходный переход       4335       1698      0.849      0.946      0.962      0.717\n",
      "Место остановки автобуса и (или) троллейбуса       4335        368      0.841      0.959      0.962      0.714\n",
      "Конец зоны ограничения максимальной скорости       4335         16      0.991      0.812      0.948      0.661\n",
      "            Стоп-линия       4335        103      0.866      0.874      0.941      0.658\n",
      "Зона приёма радиостанции, передающей информацию о дорожном движении       4335          1      0.593          1      0.995      0.697\n",
      "  Конец главной дороги       4335         38      0.821      0.868      0.938      0.753\n",
      "       Уступите дорогу       4335        317      0.923       0.94      0.969      0.716\n",
      "                  8131       4335         14      0.764      0.696      0.727      0.435\n",
      "Объезд препятствия справа       4335         79      0.834      0.962      0.971      0.739\n",
      "        Сужение дороги       4335          5      0.354        0.4       0.48      0.326\n",
      "       Дорожные работы       4335         80      0.768        0.9      0.913      0.674\n",
      "Движение грузовых автомобилей запрещено       4335          7      0.716      0.286      0.513      0.439\n",
      "  Направления действия       4335          5      0.826      0.958      0.862      0.736\n",
      "                   341       4335         43      0.734      0.772      0.858      0.656\n",
      "Движение направо или налево       4335          5          1      0.973      0.995      0.751\n",
      "Объезд препятствия справа или слева       4335         75       0.83      0.947      0.942      0.721\n",
      "        Движение прямо       4335        155      0.879      0.884      0.947      0.739\n",
      "      Прочие опасности       4335         12      0.947      0.833      0.933      0.734\n",
      "          Конец полосы       4335         89      0.885      0.953      0.971      0.724\n",
      "   Остановка запрещена       4335        269      0.932       0.97      0.986      0.761\n",
      "      Скользкая дорога       4335         28      0.804      0.714      0.853      0.612\n",
      "                  4121       4335         13      0.696          1      0.927      0.673\n",
      "   Место для разворота       4335         12      0.742      0.833      0.927      0.757\n",
      " Расстояние до объекта       4335         13      0.806      0.846      0.895      0.662\n",
      "Надземный пешеходный переход       4335         11      0.935      0.818      0.973      0.749\n",
      "         Начало полосы       4335        114      0.914       0.93      0.964      0.765\n",
      "Автозаправочная станция       4335         72      0.829      0.944      0.969      0.747\n",
      "       Опасная обочина       4335          2      0.599        0.5      0.606      0.474\n",
      "Парковка (парковочное место)       4335         87      0.875      0.908      0.959      0.715\n",
      " Расстояние до объекта       4335          4      0.837          1      0.995      0.448\n",
      "       Неровная дорога       4335         24      0.858      0.753      0.861      0.668\n",
      "       Опасный поворот       4335         40      0.587      0.725      0.663      0.481\n",
      "Подземный пешеходный переход       4335         53      0.799      0.906      0.937      0.671\n",
      "Направления движения по полосам       4335        109      0.843      0.954      0.966      0.777\n",
      "              Больница       4335         16      0.848      0.875      0.943      0.735\n",
      "Направления движения по полосе       4335        344      0.875      0.965      0.975      0.735\n",
      "              Пост ДПС       4335         10      0.821        0.8      0.893      0.778\n",
      "                   318       4335         16      0.853      0.729      0.802      0.635\n",
      "Конец дороги с односторонним движением       4335         35      0.912      0.857      0.913      0.664\n",
      "Дорога с односторонним движением       4335         86       0.83      0.895      0.947      0.683\n",
      "Техническое обслуживание автомобилей       4335          9      0.912      0.889      0.956      0.703\n",
      "      Движение направо       4335         39      0.898      0.795      0.887      0.615\n",
      "         Зона действия       4335          6      0.707      0.833      0.866      0.682\n",
      "          Место отдыха       4335          8      0.767          1      0.954      0.792\n",
      "    Пешеходный переход       4335         72      0.837      0.917      0.927      0.691\n",
      "        Дикие животные       4335          5      0.734        0.8      0.773      0.632\n",
      "Примыкание второстепенной дороги       4335         79      0.583       0.81       0.77      0.587\n",
      "                 51522       4335        111      0.916       0.91      0.961      0.765\n",
      "Светофорное регулирование       4335         20      0.855       0.75      0.907      0.695\n",
      "    Ограничение высоты       4335         18      0.695      0.889      0.843      0.686\n",
      "                    23       4335         34      0.772      0.676      0.848      0.613\n",
      "Примыкание второстепенной дороги       4335         50      0.556       0.72      0.655      0.506\n",
      "         Пункт питания       4335         15      0.953      0.933      0.985      0.812\n",
      "                   111       4335         31      0.522      0.613      0.666      0.496\n",
      "Направление главной дороги       4335         49      0.787      0.753       0.83      0.613\n",
      "      Опасные повороты       4335         12      0.502      0.587      0.662      0.526\n",
      "                   120       4335          5      0.625        0.6      0.613      0.497\n",
      "                   112       4335         11      0.744      0.793      0.738      0.569\n",
      "Движение транспортных средств с опасными грузами запрещено       4335         13      0.869      0.769      0.836      0.542\n",
      "Движение без остановки запрещено       4335         35      0.936      0.857      0.957      0.745\n",
      "        Въезд запрещён       4335         67      0.842      0.851      0.897      0.667\n",
      "Направление движения транспортных средств с опасными грузами       4335          5       0.89        0.8      0.906      0.714\n",
      "        Обгон запрещён       4335        135      0.932       0.97      0.978      0.754\n",
      "    Движение запрещено       4335         10          1      0.887      0.896        0.7\n",
      "Примыкание второстепенной дороги       4335          2          1          0      0.995      0.672\n",
      "      Конец жилой зоны       4335          4      0.804       0.75      0.945      0.751\n",
      "     Мойка автомобилей       4335         21      0.888      0.905      0.963      0.841\n",
      "Вид транспортного средства       4335          2          0          0      0.152      0.111\n",
      "    Ограничение ширины       4335          4      0.781       0.75      0.945      0.786\n",
      "Железнодорожный переезд без шлагбаума       4335         18      0.736          1      0.969      0.731\n",
      "        Сужение дороги       4335         26      0.762      0.885      0.881      0.661\n",
      "Движение прямо или направо       4335         84      0.915      0.952      0.959      0.736\n",
      "               Телефон       4335          4      0.864          1      0.995      0.815\n",
      "  Направления действия       4335          7      0.349      0.857      0.505      0.307\n",
      "     Круговое движение       4335         17      0.824      0.882      0.927      0.713\n",
      "Движение прямо или налево       4335         12      0.857      0.667      0.816      0.656\n",
      "         Зона действия       4335          5      0.636        0.8      0.791      0.649\n",
      "         Зона действия       4335          8       0.86       0.75      0.857      0.584\n",
      "               Тоннель       4335          3      0.786      0.667      0.679      0.508\n",
      "Движение пешеходов запрещено       4335          4      0.749          1      0.995      0.821\n",
      "Объезд препятствия слева       4335         46      0.841      0.891      0.918      0.709\n"
     ]
    },
    {
     "name": "stdout",
     "output_type": "stream",
     "text": [
      "Пункт первой медицинской помощи       4335          3      0.641      0.615      0.637      0.463\n",
      "     Стоянка запрещена       4335         19      0.791          1      0.995      0.793\n",
      "       Движение налево       4335          1      0.358          1      0.995      0.597\n",
      "Дорога для автомобилей       4335         12          1      0.962      0.995       0.72\n",
      "Конец зоны всех ограничений       4335         11      0.863      0.575      0.787      0.545\n",
      "Рекомендуемая скорость       4335         12       0.92          1      0.995      0.777\n",
      " Двустороннее движение       4335          4      0.793      0.967      0.895      0.753\n",
      "Конец зоны запрещения обгона       4335         25      0.957       0.96      0.974      0.711\n",
      "          Крутой спуск       4335          2      0.216          1      0.638      0.291\n",
      "         Крутой подъём       4335         13       0.74      0.769      0.906      0.585\n",
      "Примыкание второстепенной дороги       4335          1          1          0      0.995      0.796\n",
      "Направление движения для грузовых автомобилей       4335          2      0.314      0.314      0.359       0.24\n",
      "Преимущество встречного движения       4335          8          1      0.911      0.995      0.872\n",
      "Поворот налево запрещён       4335         15      0.744        0.8      0.871      0.674\n",
      "                  4122       4335         15      0.896      0.933       0.94      0.757\n",
      "Пересечение с круговым движением       4335          2      0.905        0.5      0.548      0.438\n",
      "     Разворот запрещён       4335          1          1          0      0.995      0.796\n",
      "         Выброс гравия       4335          2      0.889          1      0.995      0.796\n",
      "Преимущество перед встречным движением       4335          1      0.732          1      0.995      0.895\n",
      "        Время действия       4335         10      0.492      0.195      0.381      0.252\n",
      "Направление движения по полосам       4335         31      0.942      0.935      0.956      0.771\n",
      "                   514       4335         23      0.763      0.913      0.901      0.725\n",
      "            Жилая зона       4335          3      0.578          1      0.995       0.78\n",
      "Железнодорожный переезд со шлагбаумом       4335         18      0.867      0.889      0.886      0.735\n",
      "Направление движения для грузовых автомобилей       4335         16      0.837          1      0.985      0.791\n",
      "Способ постановки транспортного средства на стоянку       4335          9      0.714      0.285      0.782      0.501\n",
      "       Слепые пешеходы       4335         25      0.658       0.68      0.744      0.449\n",
      "                    45       4335          1          0          0          0          0\n",
      "     Ограничение массы       4335         10      0.744        0.1      0.325      0.231\n",
      "       Кроме инвалидов       4335          3          1      0.753      0.995      0.255\n",
      "Вид транспортного средства       4335          1        0.3          1      0.332      0.265\n",
      "Стоянка запрещена по чётным числам месяца       4335          5      0.921          1      0.995      0.796\n",
      "Выезд на дорогу с односторонним движением       4335         13      0.926      0.846      0.906       0.63\n",
      "Выезд на дорогу с односторонним движением       4335         10      0.554        0.9      0.799      0.549\n",
      "Пересечение с трамвайной линией       4335          6      0.945          1      0.995      0.735\n",
      "Стоянка запрещена по нечётным числам месяца.       4335          6      0.564          1      0.995      0.728\n",
      "Ограничение минимальной дистанции       4335          4          1      0.254      0.836      0.515\n",
      " Низколетящие самолёты       4335          1       0.62          1      0.995      0.895\n",
      "                   511       4335          6      0.754        0.5      0.722      0.418\n",
      "Пересечение равнозначных дорог       4335          2      0.617        0.5      0.498      0.449\n",
      "Способ постановки транспортного средства на стоянку       4335          1          0          0      0.249      0.174\n",
      "                 Тупик       4335          1      0.644          1      0.995      0.796\n",
      "Ограничение массы, приходящейся на ось транспортного средства       4335          2          1          0      0.126      0.063\n",
      "                   843       4335          2          1          0     0.0317     0.0222\n",
      "  Реверсивное движение       4335          1      0.669          1      0.995      0.796\n",
      "              Инвалиды       4335          2      0.552        0.5      0.554      0.432\n",
      "Движение тракторов запрещено       4335          1          1          0          0          0\n",
      "           Рабочие дни       4335          6       0.41      0.698      0.662      0.475\n",
      "                 Тупик       4335          1          0          0          0          0\n",
      "   Выезд на набережную       4335          1          1          0      0.497      0.398\n",
      "                Туалет       4335          1          1          0      0.995      0.995\n",
      "                   714       4335          1      0.906          1      0.995      0.796\n",
      "Speed: 0.1ms preprocess, 0.7ms inference, 0.0ms loss, 0.5ms postprocess per image\n",
      "Results saved to \u001b[1mruns\\detect\\yolov8s_ru_dataset_25\u001b[0m\n"
     ]
    }
   ],
   "source": [
    "model = YOLO('yolov8s.pt')\n",
    "\n",
    "model.to('cuda')\n",
    "\n",
    "results = model.train(\n",
    "   data='data_ru_translate.yaml',\n",
    "   imgsz=640,\n",
    "   epochs=25,\n",
    "   batch=48,\n",
    "   name='yolov8s_ru_dataset_25' \n",
    ")"
   ]
  },
  {
   "cell_type": "markdown",
   "id": "7591dc83",
   "metadata": {},
   "source": [
    "### YOLO v8m"
   ]
  },
  {
   "cell_type": "code",
   "execution_count": 6,
   "id": "62e92e7d",
   "metadata": {
    "scrolled": false
   },
   "outputs": [
    {
     "name": "stdout",
     "output_type": "stream",
     "text": [
      "New https://pypi.org/project/ultralytics/8.0.216 available 😃 Update with 'pip install -U ultralytics'\n",
      "\u001b[34m\u001b[1mengine\\trainer: \u001b[0mtask=detect, mode=train, model=yolov8m.pt, data=data_ru_translate.yaml, epochs=25, patience=50, batch=32, imgsz=640, save=True, save_period=-1, cache=False, device=cuda:0, workers=8, project=None, name=yolov8m_ru_dataset_25, exist_ok=False, pretrained=True, optimizer=auto, verbose=True, seed=0, deterministic=True, single_cls=False, rect=False, cos_lr=False, close_mosaic=10, resume=False, amp=True, fraction=1.0, profile=False, freeze=None, overlap_mask=True, mask_ratio=4, dropout=0.0, val=True, split=val, save_json=False, save_hybrid=False, conf=None, iou=0.7, max_det=300, half=False, dnn=False, plots=True, source=None, show=False, save_txt=False, save_conf=False, save_crop=False, show_labels=True, show_conf=True, vid_stride=1, stream_buffer=False, line_width=None, visualize=False, augment=False, agnostic_nms=False, classes=None, retina_masks=False, boxes=True, format=torchscript, keras=False, optimize=False, int8=False, dynamic=False, simplify=False, opset=None, workspace=4, nms=False, lr0=0.01, lrf=0.01, momentum=0.937, weight_decay=0.0005, warmup_epochs=3.0, warmup_momentum=0.8, warmup_bias_lr=0.1, box=7.5, cls=0.5, dfl=1.5, pose=12.0, kobj=1.0, label_smoothing=0.0, nbs=64, hsv_h=0.015, hsv_s=0.7, hsv_v=0.4, degrees=0.0, translate=0.1, scale=0.5, shear=0.0, perspective=0.0, flipud=0.0, fliplr=0.5, mosaic=1.0, mixup=0.0, copy_paste=0.0, cfg=None, tracker=botsort.yaml, save_dir=runs\\detect\\yolov8m_ru_dataset_25\n",
      "Overriding model.yaml nc=80 with nc=155\n",
      "\n",
      "                   from  n    params  module                                       arguments                     \n",
      "  0                  -1  1      1392  ultralytics.nn.modules.conv.Conv             [3, 48, 3, 2]                 \n",
      "  1                  -1  1     41664  ultralytics.nn.modules.conv.Conv             [48, 96, 3, 2]                \n",
      "  2                  -1  2    111360  ultralytics.nn.modules.block.C2f             [96, 96, 2, True]             \n",
      "  3                  -1  1    166272  ultralytics.nn.modules.conv.Conv             [96, 192, 3, 2]               \n",
      "  4                  -1  4    813312  ultralytics.nn.modules.block.C2f             [192, 192, 4, True]           \n",
      "  5                  -1  1    664320  ultralytics.nn.modules.conv.Conv             [192, 384, 3, 2]              \n",
      "  6                  -1  4   3248640  ultralytics.nn.modules.block.C2f             [384, 384, 4, True]           \n",
      "  7                  -1  1   1991808  ultralytics.nn.modules.conv.Conv             [384, 576, 3, 2]              \n",
      "  8                  -1  2   3985920  ultralytics.nn.modules.block.C2f             [576, 576, 2, True]           \n",
      "  9                  -1  1    831168  ultralytics.nn.modules.block.SPPF            [576, 576, 5]                 \n",
      " 10                  -1  1         0  torch.nn.modules.upsampling.Upsample         [None, 2, 'nearest']          \n",
      " 11             [-1, 6]  1         0  ultralytics.nn.modules.conv.Concat           [1]                           \n",
      " 12                  -1  2   1993728  ultralytics.nn.modules.block.C2f             [960, 384, 2]                 \n",
      " 13                  -1  1         0  torch.nn.modules.upsampling.Upsample         [None, 2, 'nearest']          \n",
      " 14             [-1, 4]  1         0  ultralytics.nn.modules.conv.Concat           [1]                           \n",
      " 15                  -1  2    517632  ultralytics.nn.modules.block.C2f             [576, 192, 2]                 \n",
      " 16                  -1  1    332160  ultralytics.nn.modules.conv.Conv             [192, 192, 3, 2]              \n",
      " 17            [-1, 12]  1         0  ultralytics.nn.modules.conv.Concat           [1]                           \n",
      " 18                  -1  2   1846272  ultralytics.nn.modules.block.C2f             [576, 384, 2]                 \n",
      " 19                  -1  1   1327872  ultralytics.nn.modules.conv.Conv             [384, 384, 3, 2]              \n",
      " 20             [-1, 9]  1         0  ultralytics.nn.modules.conv.Concat           [1]                           \n",
      " 21                  -1  2   4207104  ultralytics.nn.modules.block.C2f             [960, 576, 2]                 \n",
      " 22        [15, 18, 21]  1   3865441  ultralytics.nn.modules.head.Detect           [155, [192, 384, 576]]        \n",
      "Model summary: 295 layers, 25946065 parameters, 25946049 gradients, 79.6 GFLOPs\n",
      "\n",
      "Transferred 469/475 items from pretrained weights\n",
      "\u001b[34m\u001b[1mTensorBoard: \u001b[0mStart with 'tensorboard --logdir runs\\detect\\yolov8m_ru_dataset_25', view at http://localhost:6006/\n",
      "Freezing layer 'model.22.dfl.conv.weight'\n",
      "\u001b[34m\u001b[1mAMP: \u001b[0mrunning Automatic Mixed Precision (AMP) checks with YOLOv8n...\n",
      "\u001b[34m\u001b[1mAMP: \u001b[0mchecks passed ✅\n"
     ]
    },
    {
     "name": "stderr",
     "output_type": "stream",
     "text": [
      "\u001b[34m\u001b[1mtrain: \u001b[0mScanning C:\\Users\\User\\Documents\\Projects\\itmo_deep_learning\\archive\\train\\labels.cache... 39015 images, 0 backgrounds, 0 corrupt: 100%|██████████| 39015/39015 [00:00<?, ?it/s]\n",
      "\u001b[34m\u001b[1mval: \u001b[0mScanning C:\\Users\\User\\Documents\\Projects\\itmo_deep_learning\\archive\\valid\\labels.cache... 4335 images, 0 backgrounds, 0 corrupt: 100%|██████████| 4335/4335 [00:00<?, ?it/s]\n"
     ]
    },
    {
     "name": "stdout",
     "output_type": "stream",
     "text": [
      "Plotting labels to runs\\detect\\yolov8m_ru_dataset_25\\labels.jpg... \n",
      "\u001b[34m\u001b[1moptimizer:\u001b[0m 'optimizer=auto' found, ignoring 'lr0=0.01' and 'momentum=0.937' and determining best 'optimizer', 'lr0' and 'momentum' automatically... \n",
      "\u001b[34m\u001b[1moptimizer:\u001b[0m SGD(lr=0.01, momentum=0.9) with parameter groups 77 weight(decay=0.0), 84 weight(decay=0.0005), 83 bias(decay=0.0)\n",
      "Image sizes 640 train, 640 val\n",
      "Using 8 dataloader workers\n",
      "Logging results to \u001b[1mruns\\detect\\yolov8m_ru_dataset_25\u001b[0m\n",
      "Starting training for 25 epochs...\n",
      "\n",
      "      Epoch    GPU_mem   box_loss   cls_loss   dfl_loss  Instances       Size\n"
     ]
    },
    {
     "name": "stderr",
     "output_type": "stream",
     "text": [
      "       1/25      13.7G      1.126      2.606     0.8624         25        640: 100%|██████████| 1220/1220 [06:51<00:00,  2.97it/s]\n",
      "                 Class     Images  Instances      Box(P          R      mAP50  mAP50-95): 100%|██████████| 68/68 [00:19<00:00,  3.53it/s]\n"
     ]
    },
    {
     "name": "stdout",
     "output_type": "stream",
     "text": [
      "                   all       4335       7669      0.634      0.307      0.348      0.233\n",
      "\n",
      "      Epoch    GPU_mem   box_loss   cls_loss   dfl_loss  Instances       Size\n"
     ]
    },
    {
     "name": "stderr",
     "output_type": "stream",
     "text": [
      "       2/25      13.6G        1.1      1.035     0.8597         17        640: 100%|██████████| 1220/1220 [06:47<00:00,  2.99it/s]\n",
      "                 Class     Images  Instances      Box(P          R      mAP50  mAP50-95): 100%|██████████| 68/68 [00:18<00:00,  3.58it/s]"
     ]
    },
    {
     "name": "stdout",
     "output_type": "stream",
     "text": [
      "                   all       4335       7669      0.617      0.394      0.467      0.328\n"
     ]
    },
    {
     "name": "stderr",
     "output_type": "stream",
     "text": [
      "\n"
     ]
    },
    {
     "name": "stdout",
     "output_type": "stream",
     "text": [
      "\n",
      "      Epoch    GPU_mem   box_loss   cls_loss   dfl_loss  Instances       Size\n"
     ]
    },
    {
     "name": "stderr",
     "output_type": "stream",
     "text": [
      "       3/25      13.7G      1.122     0.9808     0.8644         19        640: 100%|██████████| 1220/1220 [06:44<00:00,  3.02it/s]\n",
      "                 Class     Images  Instances      Box(P          R      mAP50  mAP50-95): 100%|██████████| 68/68 [00:19<00:00,  3.57it/s]"
     ]
    },
    {
     "name": "stdout",
     "output_type": "stream",
     "text": [
      "                   all       4335       7669      0.585      0.387       0.44      0.302\n"
     ]
    },
    {
     "name": "stderr",
     "output_type": "stream",
     "text": [
      "\n"
     ]
    },
    {
     "name": "stdout",
     "output_type": "stream",
     "text": [
      "\n",
      "      Epoch    GPU_mem   box_loss   cls_loss   dfl_loss  Instances       Size\n"
     ]
    },
    {
     "name": "stderr",
     "output_type": "stream",
     "text": [
      "       4/25      13.8G       1.12     0.9581     0.8649         35        640: 100%|██████████| 1220/1220 [06:43<00:00,  3.02it/s]\n",
      "                 Class     Images  Instances      Box(P          R      mAP50  mAP50-95): 100%|██████████| 68/68 [00:19<00:00,  3.52it/s]"
     ]
    },
    {
     "name": "stdout",
     "output_type": "stream",
     "text": [
      "                   all       4335       7669      0.599      0.458        0.5      0.349\n"
     ]
    },
    {
     "name": "stderr",
     "output_type": "stream",
     "text": [
      "\n"
     ]
    },
    {
     "name": "stdout",
     "output_type": "stream",
     "text": [
      "\n",
      "      Epoch    GPU_mem   box_loss   cls_loss   dfl_loss  Instances       Size\n"
     ]
    },
    {
     "name": "stderr",
     "output_type": "stream",
     "text": [
      "       5/25      13.8G      1.063     0.8512     0.8539         21        640: 100%|██████████| 1220/1220 [06:43<00:00,  3.02it/s]\n",
      "                 Class     Images  Instances      Box(P          R      mAP50  mAP50-95): 100%|██████████| 68/68 [00:19<00:00,  3.52it/s]"
     ]
    },
    {
     "name": "stdout",
     "output_type": "stream",
     "text": [
      "                   all       4335       7669      0.675      0.505      0.567      0.403\n"
     ]
    },
    {
     "name": "stderr",
     "output_type": "stream",
     "text": [
      "\n"
     ]
    },
    {
     "name": "stdout",
     "output_type": "stream",
     "text": [
      "\n",
      "      Epoch    GPU_mem   box_loss   cls_loss   dfl_loss  Instances       Size\n"
     ]
    },
    {
     "name": "stderr",
     "output_type": "stream",
     "text": [
      "       6/25      13.8G      1.025     0.7813     0.8476         22        640: 100%|██████████| 1220/1220 [06:43<00:00,  3.03it/s]\n",
      "                 Class     Images  Instances      Box(P          R      mAP50  mAP50-95): 100%|██████████| 68/68 [00:19<00:00,  3.50it/s]"
     ]
    },
    {
     "name": "stdout",
     "output_type": "stream",
     "text": [
      "                   all       4335       7669      0.639       0.58      0.644      0.458\n"
     ]
    },
    {
     "name": "stderr",
     "output_type": "stream",
     "text": [
      "\n"
     ]
    },
    {
     "name": "stdout",
     "output_type": "stream",
     "text": [
      "\n",
      "      Epoch    GPU_mem   box_loss   cls_loss   dfl_loss  Instances       Size\n"
     ]
    },
    {
     "name": "stderr",
     "output_type": "stream",
     "text": [
      "       7/25      13.7G     0.9978     0.7335     0.8423         30        640: 100%|██████████| 1220/1220 [06:43<00:00,  3.02it/s]\n",
      "                 Class     Images  Instances      Box(P          R      mAP50  mAP50-95): 100%|██████████| 68/68 [00:19<00:00,  3.53it/s]"
     ]
    },
    {
     "name": "stdout",
     "output_type": "stream",
     "text": [
      "                   all       4335       7669      0.685      0.591      0.673      0.492\n"
     ]
    },
    {
     "name": "stderr",
     "output_type": "stream",
     "text": [
      "\n"
     ]
    },
    {
     "name": "stdout",
     "output_type": "stream",
     "text": [
      "\n",
      "      Epoch    GPU_mem   box_loss   cls_loss   dfl_loss  Instances       Size\n"
     ]
    },
    {
     "name": "stderr",
     "output_type": "stream",
     "text": [
      "       8/25      13.8G     0.9747     0.6996     0.8396         14        640: 100%|██████████| 1220/1220 [06:43<00:00,  3.03it/s]\n",
      "                 Class     Images  Instances      Box(P          R      mAP50  mAP50-95): 100%|██████████| 68/68 [00:19<00:00,  3.49it/s]"
     ]
    },
    {
     "name": "stdout",
     "output_type": "stream",
     "text": [
      "                   all       4335       7669      0.682      0.633      0.715      0.526\n"
     ]
    },
    {
     "name": "stderr",
     "output_type": "stream",
     "text": [
      "\n"
     ]
    },
    {
     "name": "stdout",
     "output_type": "stream",
     "text": [
      "\n",
      "      Epoch    GPU_mem   box_loss   cls_loss   dfl_loss  Instances       Size\n"
     ]
    },
    {
     "name": "stderr",
     "output_type": "stream",
     "text": [
      "       9/25      13.8G     0.9574     0.6716     0.8372         24        640: 100%|██████████| 1220/1220 [06:43<00:00,  3.02it/s]\n",
      "                 Class     Images  Instances      Box(P          R      mAP50  mAP50-95): 100%|██████████| 68/68 [00:19<00:00,  3.51it/s]"
     ]
    },
    {
     "name": "stdout",
     "output_type": "stream",
     "text": [
      "                   all       4335       7669      0.719      0.673      0.727      0.532\n"
     ]
    },
    {
     "name": "stderr",
     "output_type": "stream",
     "text": [
      "\n"
     ]
    },
    {
     "name": "stdout",
     "output_type": "stream",
     "text": [
      "\n",
      "      Epoch    GPU_mem   box_loss   cls_loss   dfl_loss  Instances       Size\n"
     ]
    },
    {
     "name": "stderr",
     "output_type": "stream",
     "text": [
      "      10/25      13.8G     0.9452     0.6475     0.8354         25        640: 100%|██████████| 1220/1220 [06:43<00:00,  3.03it/s]\n",
      "                 Class     Images  Instances      Box(P          R      mAP50  mAP50-95): 100%|██████████| 68/68 [00:19<00:00,  3.50it/s]"
     ]
    },
    {
     "name": "stdout",
     "output_type": "stream",
     "text": [
      "                   all       4335       7669      0.736      0.675      0.761      0.562\n"
     ]
    },
    {
     "name": "stderr",
     "output_type": "stream",
     "text": [
      "\n"
     ]
    },
    {
     "name": "stdout",
     "output_type": "stream",
     "text": [
      "\n",
      "      Epoch    GPU_mem   box_loss   cls_loss   dfl_loss  Instances       Size\n"
     ]
    },
    {
     "name": "stderr",
     "output_type": "stream",
     "text": [
      "      11/25      13.7G     0.9273     0.6247     0.8326         18        640: 100%|██████████| 1220/1220 [06:43<00:00,  3.03it/s]\n",
      "                 Class     Images  Instances      Box(P          R      mAP50  mAP50-95): 100%|██████████| 68/68 [00:19<00:00,  3.57it/s]"
     ]
    },
    {
     "name": "stdout",
     "output_type": "stream",
     "text": [
      "                   all       4335       7669      0.756      0.701       0.78      0.582\n"
     ]
    },
    {
     "name": "stderr",
     "output_type": "stream",
     "text": [
      "\n"
     ]
    },
    {
     "name": "stdout",
     "output_type": "stream",
     "text": [
      "\n",
      "      Epoch    GPU_mem   box_loss   cls_loss   dfl_loss  Instances       Size\n"
     ]
    },
    {
     "name": "stderr",
     "output_type": "stream",
     "text": [
      "      12/25      13.8G      0.922     0.6099     0.8315         16        640: 100%|██████████| 1220/1220 [06:42<00:00,  3.03it/s]\n",
      "                 Class     Images  Instances      Box(P          R      mAP50  mAP50-95): 100%|██████████| 68/68 [00:19<00:00,  3.53it/s]"
     ]
    },
    {
     "name": "stdout",
     "output_type": "stream",
     "text": [
      "                   all       4335       7669      0.737      0.728      0.784      0.587\n"
     ]
    },
    {
     "name": "stderr",
     "output_type": "stream",
     "text": [
      "\n"
     ]
    },
    {
     "name": "stdout",
     "output_type": "stream",
     "text": [
      "\n",
      "      Epoch    GPU_mem   box_loss   cls_loss   dfl_loss  Instances       Size\n"
     ]
    },
    {
     "name": "stderr",
     "output_type": "stream",
     "text": [
      "      13/25      13.8G     0.9056       0.59     0.8295         27        640: 100%|██████████| 1220/1220 [06:45<00:00,  3.01it/s]\n",
      "                 Class     Images  Instances      Box(P          R      mAP50  mAP50-95): 100%|██████████| 68/68 [00:19<00:00,  3.51it/s]"
     ]
    },
    {
     "name": "stdout",
     "output_type": "stream",
     "text": [
      "                   all       4335       7669      0.772       0.72      0.804      0.605\n"
     ]
    },
    {
     "name": "stderr",
     "output_type": "stream",
     "text": [
      "\n"
     ]
    },
    {
     "name": "stdout",
     "output_type": "stream",
     "text": [
      "\n",
      "      Epoch    GPU_mem   box_loss   cls_loss   dfl_loss  Instances       Size\n"
     ]
    },
    {
     "name": "stderr",
     "output_type": "stream",
     "text": [
      "      14/25      13.8G     0.8944     0.5736      0.827         24        640: 100%|██████████| 1220/1220 [06:43<00:00,  3.03it/s]\n",
      "                 Class     Images  Instances      Box(P          R      mAP50  mAP50-95): 100%|██████████| 68/68 [00:19<00:00,  3.52it/s]"
     ]
    },
    {
     "name": "stdout",
     "output_type": "stream",
     "text": [
      "                   all       4335       7669      0.792      0.725      0.801      0.603\n"
     ]
    },
    {
     "name": "stderr",
     "output_type": "stream",
     "text": [
      "\n"
     ]
    },
    {
     "name": "stdout",
     "output_type": "stream",
     "text": [
      "\n",
      "      Epoch    GPU_mem   box_loss   cls_loss   dfl_loss  Instances       Size\n"
     ]
    },
    {
     "name": "stderr",
     "output_type": "stream",
     "text": [
      "      15/25      13.8G     0.8864     0.5599      0.827         27        640: 100%|██████████| 1220/1220 [06:43<00:00,  3.02it/s]\n",
      "                 Class     Images  Instances      Box(P          R      mAP50  mAP50-95): 100%|██████████| 68/68 [00:19<00:00,  3.51it/s]"
     ]
    },
    {
     "name": "stdout",
     "output_type": "stream",
     "text": [
      "                   all       4335       7669      0.764      0.753      0.809      0.612\n"
     ]
    },
    {
     "name": "stderr",
     "output_type": "stream",
     "text": [
      "\n"
     ]
    },
    {
     "name": "stdout",
     "output_type": "stream",
     "text": [
      "Closing dataloader mosaic\n",
      "\n",
      "      Epoch    GPU_mem   box_loss   cls_loss   dfl_loss  Instances       Size\n"
     ]
    },
    {
     "name": "stderr",
     "output_type": "stream",
     "text": [
      "      16/25      13.8G     0.8866     0.5518     0.8292         13        640: 100%|██████████| 1220/1220 [06:43<00:00,  3.02it/s]\n",
      "                 Class     Images  Instances      Box(P          R      mAP50  mAP50-95): 100%|██████████| 68/68 [00:19<00:00,  3.54it/s]"
     ]
    },
    {
     "name": "stdout",
     "output_type": "stream",
     "text": [
      "                   all       4335       7669      0.775      0.765      0.826      0.625\n"
     ]
    },
    {
     "name": "stderr",
     "output_type": "stream",
     "text": [
      "\n"
     ]
    },
    {
     "name": "stdout",
     "output_type": "stream",
     "text": [
      "\n",
      "      Epoch    GPU_mem   box_loss   cls_loss   dfl_loss  Instances       Size\n"
     ]
    },
    {
     "name": "stderr",
     "output_type": "stream",
     "text": [
      "      17/25      13.8G     0.8764     0.5371     0.8278          9        640: 100%|██████████| 1220/1220 [06:42<00:00,  3.03it/s]\n",
      "                 Class     Images  Instances      Box(P          R      mAP50  mAP50-95): 100%|██████████| 68/68 [00:19<00:00,  3.57it/s]"
     ]
    },
    {
     "name": "stdout",
     "output_type": "stream",
     "text": [
      "                   all       4335       7669      0.746      0.795      0.831      0.624\n"
     ]
    },
    {
     "name": "stderr",
     "output_type": "stream",
     "text": [
      "\n"
     ]
    },
    {
     "name": "stdout",
     "output_type": "stream",
     "text": [
      "\n",
      "      Epoch    GPU_mem   box_loss   cls_loss   dfl_loss  Instances       Size\n"
     ]
    },
    {
     "name": "stderr",
     "output_type": "stream",
     "text": [
      "      18/25      13.8G      0.867     0.5198     0.8269          7        640: 100%|██████████| 1220/1220 [06:43<00:00,  3.02it/s]\n",
      "                 Class     Images  Instances      Box(P          R      mAP50  mAP50-95): 100%|██████████| 68/68 [00:19<00:00,  3.48it/s]"
     ]
    },
    {
     "name": "stdout",
     "output_type": "stream",
     "text": [
      "                   all       4335       7669      0.813      0.763      0.836       0.63\n"
     ]
    },
    {
     "name": "stderr",
     "output_type": "stream",
     "text": [
      "\n"
     ]
    },
    {
     "name": "stdout",
     "output_type": "stream",
     "text": [
      "\n",
      "      Epoch    GPU_mem   box_loss   cls_loss   dfl_loss  Instances       Size\n"
     ]
    },
    {
     "name": "stderr",
     "output_type": "stream",
     "text": [
      "      19/25      13.7G     0.8559     0.5039     0.8241         11        640: 100%|██████████| 1220/1220 [06:43<00:00,  3.02it/s]\n",
      "                 Class     Images  Instances      Box(P          R      mAP50  mAP50-95): 100%|██████████| 68/68 [00:19<00:00,  3.55it/s]"
     ]
    },
    {
     "name": "stdout",
     "output_type": "stream",
     "text": [
      "                   all       4335       7669      0.767      0.803      0.844       0.64\n"
     ]
    },
    {
     "name": "stderr",
     "output_type": "stream",
     "text": [
      "\n"
     ]
    },
    {
     "name": "stdout",
     "output_type": "stream",
     "text": [
      "\n",
      "      Epoch    GPU_mem   box_loss   cls_loss   dfl_loss  Instances       Size\n"
     ]
    },
    {
     "name": "stderr",
     "output_type": "stream",
     "text": [
      "      20/25      13.8G     0.8457     0.4889     0.8221         11        640: 100%|██████████| 1220/1220 [06:43<00:00,  3.02it/s]\n",
      "                 Class     Images  Instances      Box(P          R      mAP50  mAP50-95): 100%|██████████| 68/68 [00:19<00:00,  3.56it/s]"
     ]
    },
    {
     "name": "stdout",
     "output_type": "stream",
     "text": [
      "                   all       4335       7669      0.806      0.788      0.849      0.644\n"
     ]
    },
    {
     "name": "stderr",
     "output_type": "stream",
     "text": [
      "\n"
     ]
    },
    {
     "name": "stdout",
     "output_type": "stream",
     "text": [
      "\n",
      "      Epoch    GPU_mem   box_loss   cls_loss   dfl_loss  Instances       Size\n"
     ]
    },
    {
     "name": "stderr",
     "output_type": "stream",
     "text": [
      "      21/25      13.7G     0.8309     0.4728     0.8203         12        640: 100%|██████████| 1220/1220 [06:43<00:00,  3.02it/s]\n",
      "                 Class     Images  Instances      Box(P          R      mAP50  mAP50-95): 100%|██████████| 68/68 [00:19<00:00,  3.56it/s]\n"
     ]
    },
    {
     "name": "stdout",
     "output_type": "stream",
     "text": [
      "                   all       4335       7669       0.82      0.784      0.855      0.649\n",
      "\n",
      "      Epoch    GPU_mem   box_loss   cls_loss   dfl_loss  Instances       Size\n"
     ]
    },
    {
     "name": "stderr",
     "output_type": "stream",
     "text": [
      "      22/25      13.7G     0.8199     0.4588     0.8192         10        640: 100%|██████████| 1220/1220 [06:43<00:00,  3.02it/s]\n",
      "                 Class     Images  Instances      Box(P          R      mAP50  mAP50-95): 100%|██████████| 68/68 [00:19<00:00,  3.56it/s]"
     ]
    },
    {
     "name": "stdout",
     "output_type": "stream",
     "text": [
      "                   all       4335       7669      0.834      0.781      0.856       0.65\n"
     ]
    },
    {
     "name": "stderr",
     "output_type": "stream",
     "text": [
      "\n"
     ]
    },
    {
     "name": "stdout",
     "output_type": "stream",
     "text": [
      "\n",
      "      Epoch    GPU_mem   box_loss   cls_loss   dfl_loss  Instances       Size\n"
     ]
    },
    {
     "name": "stderr",
     "output_type": "stream",
     "text": [
      "      23/25      13.7G     0.8093     0.4437     0.8184         15        640: 100%|██████████| 1220/1220 [06:46<00:00,  3.00it/s]\n",
      "                 Class     Images  Instances      Box(P          R      mAP50  mAP50-95): 100%|██████████| 68/68 [00:29<00:00,  2.28it/s]"
     ]
    },
    {
     "name": "stdout",
     "output_type": "stream",
     "text": [
      "                   all       4335       7669      0.845      0.779      0.863      0.657\n"
     ]
    },
    {
     "name": "stderr",
     "output_type": "stream",
     "text": [
      "\n"
     ]
    },
    {
     "name": "stdout",
     "output_type": "stream",
     "text": [
      "\n",
      "      Epoch    GPU_mem   box_loss   cls_loss   dfl_loss  Instances       Size\n"
     ]
    },
    {
     "name": "stderr",
     "output_type": "stream",
     "text": [
      "      24/25      13.8G      0.797     0.4281     0.8154         12        640: 100%|██████████| 1220/1220 [07:33<00:00,  2.69it/s]\n",
      "                 Class     Images  Instances      Box(P          R      mAP50  mAP50-95): 100%|██████████| 68/68 [00:20<00:00,  3.32it/s]"
     ]
    },
    {
     "name": "stdout",
     "output_type": "stream",
     "text": [
      "                   all       4335       7669      0.865      0.772      0.866      0.661\n"
     ]
    },
    {
     "name": "stderr",
     "output_type": "stream",
     "text": [
      "\n"
     ]
    },
    {
     "name": "stdout",
     "output_type": "stream",
     "text": [
      "\n",
      "      Epoch    GPU_mem   box_loss   cls_loss   dfl_loss  Instances       Size\n"
     ]
    },
    {
     "name": "stderr",
     "output_type": "stream",
     "text": [
      "      25/25      13.8G     0.7856     0.4133     0.8143         13        640: 100%|██████████| 1220/1220 [06:51<00:00,  2.96it/s]\n",
      "                 Class     Images  Instances      Box(P          R      mAP50  mAP50-95): 100%|██████████| 68/68 [00:19<00:00,  3.42it/s]"
     ]
    },
    {
     "name": "stdout",
     "output_type": "stream",
     "text": [
      "                   all       4335       7669      0.876      0.768      0.868      0.662\n"
     ]
    },
    {
     "name": "stderr",
     "output_type": "stream",
     "text": [
      "\n"
     ]
    },
    {
     "name": "stdout",
     "output_type": "stream",
     "text": [
      "\n",
      "25 epochs completed in 2.972 hours.\n",
      "Optimizer stripped from runs\\detect\\yolov8m_ru_dataset_25\\weights\\last.pt, 52.2MB\n",
      "Optimizer stripped from runs\\detect\\yolov8m_ru_dataset_25\\weights\\best.pt, 52.2MB\n",
      "\n",
      "Validating runs\\detect\\yolov8m_ru_dataset_25\\weights\\best.pt...\n",
      "Ultralytics YOLOv8.0.215 🚀 Python-3.8.18 torch-2.1.1 CUDA:0 (NVIDIA GeForce RTX 3090, 24576MiB)\n",
      "Model summary (fused): 218 layers, 25929505 parameters, 0 gradients, 79.2 GFLOPs\n"
     ]
    },
    {
     "name": "stderr",
     "output_type": "stream",
     "text": [
      "                 Class     Images  Instances      Box(P          R      mAP50  mAP50-95): 100%|██████████| 68/68 [00:21<00:00,  3.21it/s]\n"
     ]
    },
    {
     "name": "stdout",
     "output_type": "stream",
     "text": [
      "                   all       4335       7669      0.875      0.768      0.868      0.662\n",
      "        Главная дорога       4335        857       0.96      0.959      0.988      0.793\n",
      "                  Дети       4335        208      0.942      0.942      0.984      0.767\n",
      "Искусственная неровность       4335         99      0.933       0.96      0.966      0.732\n",
      "Ограничение максимальной скорости       4335        343      0.926      0.944      0.973      0.759\n",
      "         Зона действия       4335         81      0.818      0.877      0.873      0.647\n",
      "Искусственная неровность       4335        135      0.967      0.879      0.973      0.747\n",
      "    Пешеходный переход       4335       1698      0.908      0.929      0.971      0.733\n",
      "Место остановки автобуса и (или) троллейбуса       4335        368      0.912      0.932      0.972      0.739\n",
      "Конец зоны ограничения максимальной скорости       4335         16          1      0.712      0.968      0.721\n",
      "            Стоп-линия       4335        103      0.926      0.853       0.96      0.693\n",
      "Зона приёма радиостанции, передающей информацию о дорожном движении       4335          1      0.599          1      0.995      0.796\n",
      "  Конец главной дороги       4335         38      0.846      0.921      0.947      0.753\n",
      "       Уступите дорогу       4335        317       0.97      0.929      0.969      0.735\n",
      "                  8131       4335         14      0.804      0.881      0.893      0.574\n",
      "Объезд препятствия справа       4335         79      0.913       0.93      0.978      0.768\n",
      "        Сужение дороги       4335          5      0.874        0.6      0.699      0.445\n",
      "       Дорожные работы       4335         80      0.884      0.858       0.95      0.726\n",
      "Движение грузовых автомобилей запрещено       4335          7          1      0.524      0.953      0.734\n",
      "  Направления действия       4335          5          1       0.51      0.962      0.864\n",
      "                   341       4335         43      0.842      0.744      0.871      0.645\n",
      "Движение направо или налево       4335          5      0.996          1      0.995      0.784\n",
      "Объезд препятствия справа или слева       4335         75        0.9       0.92      0.969      0.754\n",
      "        Движение прямо       4335        155      0.914       0.91       0.97      0.762\n",
      "      Прочие опасности       4335         12      0.941      0.833      0.956      0.748\n",
      "          Конец полосы       4335         89      0.929      0.944      0.981      0.748\n",
      "   Остановка запрещена       4335        269      0.973      0.955       0.99      0.776\n",
      "      Скользкая дорога       4335         28      0.954      0.714      0.949      0.677\n",
      "                  4121       4335         13        0.9          1      0.995      0.722\n",
      "   Место для разворота       4335         12      0.842      0.667      0.916      0.766\n",
      " Расстояние до объекта       4335         13      0.905      0.923      0.878      0.731\n",
      "Надземный пешеходный переход       4335         11          1      0.724      0.933      0.783\n",
      "         Начало полосы       4335        114      0.965       0.93      0.985      0.784\n",
      "Автозаправочная станция       4335         72      0.968      0.958       0.98      0.761\n",
      "       Опасная обочина       4335          2          1      0.863      0.995      0.697\n",
      "Парковка (парковочное место)       4335         87      0.929        0.9      0.964      0.732\n",
      " Расстояние до объекта       4335          4      0.891          1      0.995      0.558\n",
      "       Неровная дорога       4335         24      0.878      0.875      0.931       0.75\n",
      "       Опасный поворот       4335         40      0.775      0.688      0.779      0.602\n",
      "Подземный пешеходный переход       4335         53      0.926      0.946      0.979       0.72\n",
      "Направления движения по полосам       4335        109      0.921      0.962      0.977      0.798\n",
      "              Больница       4335         16      0.934      0.889      0.948      0.756\n",
      "Направления движения по полосе       4335        344      0.926      0.962      0.982      0.758\n",
      "              Пост ДПС       4335         10      0.897      0.871       0.94      0.786\n",
      "                   318       4335         16          1      0.835      0.922       0.73\n",
      "Конец дороги с односторонним движением       4335         35       0.92      0.943      0.944      0.686\n",
      "Дорога с односторонним движением       4335         86      0.964      0.936      0.969      0.707\n",
      "Техническое обслуживание автомобилей       4335          9      0.925          1      0.995      0.775\n",
      "      Движение направо       4335         39       0.97      0.817      0.955      0.691\n",
      "         Зона действия       4335          6       0.98      0.833      0.922      0.713\n",
      "          Место отдыха       4335          8      0.956      0.875      0.955      0.762\n",
      "    Пешеходный переход       4335         72      0.929      0.875      0.961       0.71\n",
      "        Дикие животные       4335          5          1       0.79      0.845      0.676\n",
      "Примыкание второстепенной дороги       4335         79      0.788      0.705       0.88      0.695\n",
      "                 51522       4335        111      0.962      0.914      0.972      0.788\n",
      "Светофорное регулирование       4335         20      0.952          1      0.993       0.75\n",
      "    Ограничение высоты       4335         18       0.88      0.815      0.871      0.677\n",
      "                    23       4335         34      0.925      0.723      0.909      0.673\n",
      "Примыкание второстепенной дороги       4335         50      0.763        0.7      0.825      0.633\n",
      "         Пункт питания       4335         15       0.98          1      0.995      0.827\n",
      "                   111       4335         31      0.832       0.71      0.859      0.638\n",
      "Направление главной дороги       4335         49      0.865      0.788      0.899      0.692\n",
      "      Опасные повороты       4335         12      0.807      0.698      0.831      0.662\n",
      "                   120       4335          5      0.669      0.811      0.818      0.635\n",
      "                   112       4335         11      0.656      0.727      0.786       0.58\n",
      "Движение транспортных средств с опасными грузами запрещено       4335         13          1      0.674      0.986      0.614\n",
      "Движение без остановки запрещено       4335         35       0.97      0.911      0.979      0.734\n",
      "        Въезд запрещён       4335         67       0.95      0.847      0.935      0.703\n",
      "Направление движения транспортных средств с опасными грузами       4335          5      0.907        0.8      0.938      0.781\n",
      "        Обгон запрещён       4335        135       0.97      0.963       0.99      0.776\n",
      "    Движение запрещено       4335         10      0.961        0.9      0.897      0.674\n",
      "Примыкание второстепенной дороги       4335          2          1          0      0.578      0.409\n",
      "      Конец жилой зоны       4335          4          1      0.878      0.995      0.748\n",
      "     Мойка автомобилей       4335         21      0.905          1      0.993      0.864\n",
      "Вид транспортного средства       4335          2          0          0      0.105     0.0719\n",
      "    Ограничение ширины       4335          4      0.896          1      0.995      0.753\n",
      "Железнодорожный переезд без шлагбаума       4335         18      0.843      0.898      0.972      0.731\n",
      "        Сужение дороги       4335         26      0.922      0.911      0.949      0.717\n",
      "Движение прямо или направо       4335         84      0.951      0.929      0.972      0.754\n",
      "               Телефон       4335          4          1      0.924      0.995      0.821\n",
      "  Направления действия       4335          7      0.329      0.429      0.422      0.271\n",
      "     Круговое движение       4335         17          1      0.921      0.992      0.729\n",
      "Движение прямо или налево       4335         12      0.997      0.833      0.959      0.755\n",
      "         Зона действия       4335          5      0.973        0.8      0.962      0.714\n",
      "         Зона действия       4335          8      0.814       0.75      0.933      0.557\n",
      "               Тоннель       4335          3      0.836      0.667      0.913      0.648\n",
      "Движение пешеходов запрещено       4335          4       0.78          1      0.945      0.745\n",
      "Объезд препятствия слева       4335         46      0.914       0.87      0.941      0.725\n"
     ]
    },
    {
     "name": "stdout",
     "output_type": "stream",
     "text": [
      "Пункт первой медицинской помощи       4335          3      0.661      0.667      0.764      0.543\n",
      "     Стоянка запрещена       4335         19      0.962          1      0.995      0.826\n",
      "       Движение налево       4335          1       0.68          1      0.995      0.697\n",
      "Дорога для автомобилей       4335         12          1      0.957      0.995      0.726\n",
      "Конец зоны всех ограничений       4335         11          1      0.721      0.857      0.654\n",
      "Рекомендуемая скорость       4335         12      0.958          1      0.995      0.753\n",
      " Двустороннее движение       4335          4          1      0.939      0.995      0.852\n",
      "Конец зоны запрещения обгона       4335         25      0.957      0.893      0.973      0.723\n",
      "          Крутой спуск       4335          2      0.328        0.5       0.62      0.497\n",
      "         Крутой подъём       4335         13          1      0.745      0.953      0.576\n",
      "Примыкание второстепенной дороги       4335          1       0.81          1      0.995      0.895\n",
      "Направление движения для грузовых автомобилей       4335          2          1          0      0.497      0.299\n",
      "Преимущество встречного движения       4335          8          1      0.978      0.995      0.835\n",
      "Поворот налево запрещён       4335         15      0.939        0.8      0.966      0.777\n",
      "                  4122       4335         15      0.904      0.933      0.952      0.762\n",
      "Пересечение с круговым движением       4335          2      0.732        0.5      0.586      0.469\n",
      "     Разворот запрещён       4335          1          1          0      0.142      0.114\n",
      "         Выброс гравия       4335          2      0.976          1      0.995      0.797\n",
      "Преимущество перед встречным движением       4335          1      0.947          1      0.995      0.697\n",
      "        Время действия       4335         10       0.82      0.461      0.673      0.458\n",
      "Направление движения по полосам       4335         31      0.965      0.888      0.964      0.819\n",
      "                   514       4335         23       0.89      0.913      0.953      0.766\n",
      "            Жилая зона       4335          3      0.962          1      0.995      0.633\n",
      "Железнодорожный переезд со шлагбаумом       4335         18      0.959      0.778      0.914      0.764\n",
      "Направление движения для грузовых автомобилей       4335         16      0.819          1      0.966      0.765\n",
      "Способ постановки транспортного средства на стоянку       4335          9          1      0.433      0.926      0.605\n",
      "       Слепые пешеходы       4335         25       0.66        0.7      0.758      0.493\n",
      "                    45       4335          1          0          0          0          0\n",
      "     Ограничение массы       4335         10      0.662      0.785      0.756      0.561\n",
      "       Кроме инвалидов       4335          3      0.571      0.333       0.83      0.366\n",
      "Вид транспортного средства       4335          1          1          0      0.497      0.348\n",
      "Стоянка запрещена по чётным числам месяца       4335          5      0.981          1      0.995       0.79\n",
      "Выезд на дорогу с односторонним движением       4335         13      0.977      0.846      0.949      0.644\n",
      "Выезд на дорогу с односторонним движением       4335         10      0.693      0.905      0.801      0.548\n",
      "Пересечение с трамвайной линией       4335          6       0.94      0.833      0.955      0.792\n",
      "Стоянка запрещена по нечётным числам месяца.       4335          6       0.82          1      0.995      0.746\n",
      "Ограничение минимальной дистанции       4335          4          1      0.786      0.995      0.605\n",
      " Низколетящие самолёты       4335          1       0.74          1      0.995      0.895\n",
      "                   511       4335          6          1      0.806      0.849      0.452\n",
      "Пересечение равнозначных дорог       4335          2      0.714        0.5      0.572      0.479\n",
      "Способ постановки транспортного средства на стоянку       4335          1          1          0      0.124     0.0995\n",
      "                 Тупик       4335          1      0.774          1      0.995      0.895\n",
      "Ограничение массы, приходящейся на ось транспортного средства       4335          2          1          0      0.497      0.298\n",
      "                   843       4335          2          1          0     0.0464     0.0371\n",
      "  Реверсивное движение       4335          1      0.754          1      0.995      0.796\n",
      "              Инвалиды       4335          2          1          0      0.562      0.432\n",
      "Движение тракторов запрещено       4335          1          1          0          0          0\n",
      "           Рабочие дни       4335          6      0.503        0.5      0.558      0.411\n",
      "                 Тупик       4335          1          0          0          0          0\n",
      "   Выезд на набережную       4335          1      0.851          1      0.995      0.796\n",
      "                Туалет       4335          1          1          0      0.995      0.895\n",
      "                   714       4335          1      0.744          1      0.995      0.995\n",
      "Speed: 0.1ms preprocess, 1.6ms inference, 0.0ms loss, 0.5ms postprocess per image\n",
      "Results saved to \u001b[1mruns\\detect\\yolov8m_ru_dataset_25\u001b[0m\n"
     ]
    }
   ],
   "source": [
    "model = YOLO('yolov8m.pt')\n",
    "\n",
    "model.to('cuda')\n",
    "\n",
    "results = model.train(\n",
    "   data='data_ru_translate.yaml',\n",
    "   imgsz=640,\n",
    "   epochs=25,\n",
    "   batch=32,\n",
    "   name='yolov8m_ru_dataset_25' \n",
    ")"
   ]
  }
 ],
 "metadata": {
  "kernelspec": {
   "display_name": "Python 3 (ipykernel)",
   "language": "python",
   "name": "python3"
  },
  "language_info": {
   "codemirror_mode": {
    "name": "ipython",
    "version": 3
   },
   "file_extension": ".py",
   "mimetype": "text/x-python",
   "name": "python",
   "nbconvert_exporter": "python",
   "pygments_lexer": "ipython3",
   "version": "3.8.18"
  }
 },
 "nbformat": 4,
 "nbformat_minor": 5
}
