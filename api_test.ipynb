{
 "cells": [
  {
   "cell_type": "code",
   "execution_count": 4,
   "id": "49a9bd3b",
   "metadata": {},
   "outputs": [
    {
     "name": "stderr",
     "output_type": "stream",
     "text": [
      "IOPub data rate exceeded.\n",
      "The notebook server will temporarily stop sending output\n",
      "to the client in order to avoid crashing it.\n",
      "To change this limit, set the config variable\n",
      "`--NotebookApp.iopub_data_rate_limit`.\n",
      "\n",
      "Current values:\n",
      "NotebookApp.iopub_data_rate_limit=1000000.0 (bytes/sec)\n",
      "NotebookApp.rate_limit_window=3.0 (secs)\n",
      "\n"
     ]
    }
   ],
   "source": [
    "import requests\n",
    "\n",
    "url = \"http://127.0.0.1:8000/uploadfile/\"\n",
    "\n",
    "# Путь к видео\n",
    "video_path = \"sample_video.mp4\"\n",
    "\n",
    "with open(video_path, \"rb\") as video_file:\n",
    "    files = {\"file\": (video_file.name, video_file, \"video/mp4\")}\n",
    "    response = requests.post(url, files=files)\n",
    "\n",
    "print(response.text)"
   ]
  },
  {
   "cell_type": "code",
   "execution_count": 5,
   "id": "9123b869",
   "metadata": {},
   "outputs": [],
   "source": [
    "#Сохранение принятого файла\n",
    "with open(\"saved_video.mp4\", \"wb\") as output_file:\n",
    "    output_file.write(response.content)"
   ]
  }
 ],
 "metadata": {
  "kernelspec": {
   "display_name": "Python 3 (ipykernel)",
   "language": "python",
   "name": "python3"
  },
  "language_info": {
   "codemirror_mode": {
    "name": "ipython",
    "version": 3
   },
   "file_extension": ".py",
   "mimetype": "text/x-python",
   "name": "python",
   "nbconvert_exporter": "python",
   "pygments_lexer": "ipython3",
   "version": "3.10.13"
  }
 },
 "nbformat": 4,
 "nbformat_minor": 5
}
